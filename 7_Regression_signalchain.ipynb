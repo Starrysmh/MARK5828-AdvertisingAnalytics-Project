{
  "nbformat": 4,
  "nbformat_minor": 0,
  "metadata": {
    "colab": {
      "name": "7. Regression_signalchain.ipynb",
      "provenance": [],
      "collapsed_sections": [],
      "include_colab_link": true
    },
    "kernelspec": {
      "name": "python3",
      "display_name": "Python 3"
    }
  },
  "cells": [
    {
      "cell_type": "markdown",
      "metadata": {
        "id": "view-in-github",
        "colab_type": "text"
      },
      "source": [
        "<a href=\"https://colab.research.google.com/github/Starrysmh/MARK5828-AdvertisingAnalytics-Project/blob/main/7_Regression_signalchain.ipynb\" target=\"_parent\"><img src=\"https://colab.research.google.com/assets/colab-badge.svg\" alt=\"Open In Colab\"/></a>"
      ]
    },
    {
      "cell_type": "markdown",
      "metadata": {
        "id": "JR_U4QsSx5iI"
      },
      "source": [
        "Requirements :\n",
        "1. Merged Data (Instagram Data +Google CV Data + Opencv Data)\n",
        "2. Week 2 Helpers\n",
        "3. Instagram Data"
      ]
    },
    {
      "cell_type": "code",
      "metadata": {
        "id": "rBCDq9g3oD-r",
        "colab": {
          "base_uri": "https://localhost:8080/"
        },
        "outputId": "e92b9d20-da09-49e8-b076-e04a6bdda1ec"
      },
      "source": [
        "import pandas as pd\n",
        "import numpy as np\n",
        "import statsmodels.api as sm\n",
        "import seaborn as sns; sns.set()\n",
        "from google.colab import files\n",
        "from collections import Counter\n",
        "import warnings\n",
        "warnings.filterwarnings('ignore')"
      ],
      "execution_count": 1,
      "outputs": [
        {
          "output_type": "stream",
          "text": [
            "/usr/local/lib/python3.7/dist-packages/statsmodels/tools/_testing.py:19: FutureWarning: pandas.util.testing is deprecated. Use the functions in the public API at pandas.testing instead.\n",
            "  import pandas.util.testing as tm\n"
          ],
          "name": "stderr"
        }
      ]
    },
    {
      "cell_type": "code",
      "metadata": {
        "id": "dgITHRGg1cWw",
        "colab": {
          "resources": {
            "http://localhost:8080/nbextensions/google.colab/files.js": {
              "data": "Ly8gQ29weXJpZ2h0IDIwMTcgR29vZ2xlIExMQwovLwovLyBMaWNlbnNlZCB1bmRlciB0aGUgQXBhY2hlIExpY2Vuc2UsIFZlcnNpb24gMi4wICh0aGUgIkxpY2Vuc2UiKTsKLy8geW91IG1heSBub3QgdXNlIHRoaXMgZmlsZSBleGNlcHQgaW4gY29tcGxpYW5jZSB3aXRoIHRoZSBMaWNlbnNlLgovLyBZb3UgbWF5IG9idGFpbiBhIGNvcHkgb2YgdGhlIExpY2Vuc2UgYXQKLy8KLy8gICAgICBodHRwOi8vd3d3LmFwYWNoZS5vcmcvbGljZW5zZXMvTElDRU5TRS0yLjAKLy8KLy8gVW5sZXNzIHJlcXVpcmVkIGJ5IGFwcGxpY2FibGUgbGF3IG9yIGFncmVlZCB0byBpbiB3cml0aW5nLCBzb2Z0d2FyZQovLyBkaXN0cmlidXRlZCB1bmRlciB0aGUgTGljZW5zZSBpcyBkaXN0cmlidXRlZCBvbiBhbiAiQVMgSVMiIEJBU0lTLAovLyBXSVRIT1VUIFdBUlJBTlRJRVMgT1IgQ09ORElUSU9OUyBPRiBBTlkgS0lORCwgZWl0aGVyIGV4cHJlc3Mgb3IgaW1wbGllZC4KLy8gU2VlIHRoZSBMaWNlbnNlIGZvciB0aGUgc3BlY2lmaWMgbGFuZ3VhZ2UgZ292ZXJuaW5nIHBlcm1pc3Npb25zIGFuZAovLyBsaW1pdGF0aW9ucyB1bmRlciB0aGUgTGljZW5zZS4KCi8qKgogKiBAZmlsZW92ZXJ2aWV3IEhlbHBlcnMgZm9yIGdvb2dsZS5jb2xhYiBQeXRob24gbW9kdWxlLgogKi8KKGZ1bmN0aW9uKHNjb3BlKSB7CmZ1bmN0aW9uIHNwYW4odGV4dCwgc3R5bGVBdHRyaWJ1dGVzID0ge30pIHsKICBjb25zdCBlbGVtZW50ID0gZG9jdW1lbnQuY3JlYXRlRWxlbWVudCgnc3BhbicpOwogIGVsZW1lbnQudGV4dENvbnRlbnQgPSB0ZXh0OwogIGZvciAoY29uc3Qga2V5IG9mIE9iamVjdC5rZXlzKHN0eWxlQXR0cmlidXRlcykpIHsKICAgIGVsZW1lbnQuc3R5bGVba2V5XSA9IHN0eWxlQXR0cmlidXRlc1trZXldOwogIH0KICByZXR1cm4gZWxlbWVudDsKfQoKLy8gTWF4IG51bWJlciBvZiBieXRlcyB3aGljaCB3aWxsIGJlIHVwbG9hZGVkIGF0IGEgdGltZS4KY29uc3QgTUFYX1BBWUxPQURfU0laRSA9IDEwMCAqIDEwMjQ7CgpmdW5jdGlvbiBfdXBsb2FkRmlsZXMoaW5wdXRJZCwgb3V0cHV0SWQpIHsKICBjb25zdCBzdGVwcyA9IHVwbG9hZEZpbGVzU3RlcChpbnB1dElkLCBvdXRwdXRJZCk7CiAgY29uc3Qgb3V0cHV0RWxlbWVudCA9IGRvY3VtZW50LmdldEVsZW1lbnRCeUlkKG91dHB1dElkKTsKICAvLyBDYWNoZSBzdGVwcyBvbiB0aGUgb3V0cHV0RWxlbWVudCB0byBtYWtlIGl0IGF2YWlsYWJsZSBmb3IgdGhlIG5leHQgY2FsbAogIC8vIHRvIHVwbG9hZEZpbGVzQ29udGludWUgZnJvbSBQeXRob24uCiAgb3V0cHV0RWxlbWVudC5zdGVwcyA9IHN0ZXBzOwoKICByZXR1cm4gX3VwbG9hZEZpbGVzQ29udGludWUob3V0cHV0SWQpOwp9CgovLyBUaGlzIGlzIHJvdWdobHkgYW4gYXN5bmMgZ2VuZXJhdG9yIChub3Qgc3VwcG9ydGVkIGluIHRoZSBicm93c2VyIHlldCksCi8vIHdoZXJlIHRoZXJlIGFyZSBtdWx0aXBsZSBhc3luY2hyb25vdXMgc3RlcHMgYW5kIHRoZSBQeXRob24gc2lkZSBpcyBnb2luZwovLyB0byBwb2xsIGZvciBjb21wbGV0aW9uIG9mIGVhY2ggc3RlcC4KLy8gVGhpcyB1c2VzIGEgUHJvbWlzZSB0byBibG9jayB0aGUgcHl0aG9uIHNpZGUgb24gY29tcGxldGlvbiBvZiBlYWNoIHN0ZXAsCi8vIHRoZW4gcGFzc2VzIHRoZSByZXN1bHQgb2YgdGhlIHByZXZpb3VzIHN0ZXAgYXMgdGhlIGlucHV0IHRvIHRoZSBuZXh0IHN0ZXAuCmZ1bmN0aW9uIF91cGxvYWRGaWxlc0NvbnRpbnVlKG91dHB1dElkKSB7CiAgY29uc3Qgb3V0cHV0RWxlbWVudCA9IGRvY3VtZW50LmdldEVsZW1lbnRCeUlkKG91dHB1dElkKTsKICBjb25zdCBzdGVwcyA9IG91dHB1dEVsZW1lbnQuc3RlcHM7CgogIGNvbnN0IG5leHQgPSBzdGVwcy5uZXh0KG91dHB1dEVsZW1lbnQubGFzdFByb21pc2VWYWx1ZSk7CiAgcmV0dXJuIFByb21pc2UucmVzb2x2ZShuZXh0LnZhbHVlLnByb21pc2UpLnRoZW4oKHZhbHVlKSA9PiB7CiAgICAvLyBDYWNoZSB0aGUgbGFzdCBwcm9taXNlIHZhbHVlIHRvIG1ha2UgaXQgYXZhaWxhYmxlIHRvIHRoZSBuZXh0CiAgICAvLyBzdGVwIG9mIHRoZSBnZW5lcmF0b3IuCiAgICBvdXRwdXRFbGVtZW50Lmxhc3RQcm9taXNlVmFsdWUgPSB2YWx1ZTsKICAgIHJldHVybiBuZXh0LnZhbHVlLnJlc3BvbnNlOwogIH0pOwp9CgovKioKICogR2VuZXJhdG9yIGZ1bmN0aW9uIHdoaWNoIGlzIGNhbGxlZCBiZXR3ZWVuIGVhY2ggYXN5bmMgc3RlcCBvZiB0aGUgdXBsb2FkCiAqIHByb2Nlc3MuCiAqIEBwYXJhbSB7c3RyaW5nfSBpbnB1dElkIEVsZW1lbnQgSUQgb2YgdGhlIGlucHV0IGZpbGUgcGlja2VyIGVsZW1lbnQuCiAqIEBwYXJhbSB7c3RyaW5nfSBvdXRwdXRJZCBFbGVtZW50IElEIG9mIHRoZSBvdXRwdXQgZGlzcGxheS4KICogQHJldHVybiB7IUl0ZXJhYmxlPCFPYmplY3Q+fSBJdGVyYWJsZSBvZiBuZXh0IHN0ZXBzLgogKi8KZnVuY3Rpb24qIHVwbG9hZEZpbGVzU3RlcChpbnB1dElkLCBvdXRwdXRJZCkgewogIGNvbnN0IGlucHV0RWxlbWVudCA9IGRvY3VtZW50LmdldEVsZW1lbnRCeUlkKGlucHV0SWQpOwogIGlucHV0RWxlbWVudC5kaXNhYmxlZCA9IGZhbHNlOwoKICBjb25zdCBvdXRwdXRFbGVtZW50ID0gZG9jdW1lbnQuZ2V0RWxlbWVudEJ5SWQob3V0cHV0SWQpOwogIG91dHB1dEVsZW1lbnQuaW5uZXJIVE1MID0gJyc7CgogIGNvbnN0IHBpY2tlZFByb21pc2UgPSBuZXcgUHJvbWlzZSgocmVzb2x2ZSkgPT4gewogICAgaW5wdXRFbGVtZW50LmFkZEV2ZW50TGlzdGVuZXIoJ2NoYW5nZScsIChlKSA9PiB7CiAgICAgIHJlc29sdmUoZS50YXJnZXQuZmlsZXMpOwogICAgfSk7CiAgfSk7CgogIGNvbnN0IGNhbmNlbCA9IGRvY3VtZW50LmNyZWF0ZUVsZW1lbnQoJ2J1dHRvbicpOwogIGlucHV0RWxlbWVudC5wYXJlbnRFbGVtZW50LmFwcGVuZENoaWxkKGNhbmNlbCk7CiAgY2FuY2VsLnRleHRDb250ZW50ID0gJ0NhbmNlbCB1cGxvYWQnOwogIGNvbnN0IGNhbmNlbFByb21pc2UgPSBuZXcgUHJvbWlzZSgocmVzb2x2ZSkgPT4gewogICAgY2FuY2VsLm9uY2xpY2sgPSAoKSA9PiB7CiAgICAgIHJlc29sdmUobnVsbCk7CiAgICB9OwogIH0pOwoKICAvLyBXYWl0IGZvciB0aGUgdXNlciB0byBwaWNrIHRoZSBmaWxlcy4KICBjb25zdCBmaWxlcyA9IHlpZWxkIHsKICAgIHByb21pc2U6IFByb21pc2UucmFjZShbcGlja2VkUHJvbWlzZSwgY2FuY2VsUHJvbWlzZV0pLAogICAgcmVzcG9uc2U6IHsKICAgICAgYWN0aW9uOiAnc3RhcnRpbmcnLAogICAgfQogIH07CgogIGNhbmNlbC5yZW1vdmUoKTsKCiAgLy8gRGlzYWJsZSB0aGUgaW5wdXQgZWxlbWVudCBzaW5jZSBmdXJ0aGVyIHBpY2tzIGFyZSBub3QgYWxsb3dlZC4KICBpbnB1dEVsZW1lbnQuZGlzYWJsZWQgPSB0cnVlOwoKICBpZiAoIWZpbGVzKSB7CiAgICByZXR1cm4gewogICAgICByZXNwb25zZTogewogICAgICAgIGFjdGlvbjogJ2NvbXBsZXRlJywKICAgICAgfQogICAgfTsKICB9CgogIGZvciAoY29uc3QgZmlsZSBvZiBmaWxlcykgewogICAgY29uc3QgbGkgPSBkb2N1bWVudC5jcmVhdGVFbGVtZW50KCdsaScpOwogICAgbGkuYXBwZW5kKHNwYW4oZmlsZS5uYW1lLCB7Zm9udFdlaWdodDogJ2JvbGQnfSkpOwogICAgbGkuYXBwZW5kKHNwYW4oCiAgICAgICAgYCgke2ZpbGUudHlwZSB8fCAnbi9hJ30pIC0gJHtmaWxlLnNpemV9IGJ5dGVzLCBgICsKICAgICAgICBgbGFzdCBtb2RpZmllZDogJHsKICAgICAgICAgICAgZmlsZS5sYXN0TW9kaWZpZWREYXRlID8gZmlsZS5sYXN0TW9kaWZpZWREYXRlLnRvTG9jYWxlRGF0ZVN0cmluZygpIDoKICAgICAgICAgICAgICAgICAgICAgICAgICAgICAgICAgICAgJ24vYSd9IC0gYCkpOwogICAgY29uc3QgcGVyY2VudCA9IHNwYW4oJzAlIGRvbmUnKTsKICAgIGxpLmFwcGVuZENoaWxkKHBlcmNlbnQpOwoKICAgIG91dHB1dEVsZW1lbnQuYXBwZW5kQ2hpbGQobGkpOwoKICAgIGNvbnN0IGZpbGVEYXRhUHJvbWlzZSA9IG5ldyBQcm9taXNlKChyZXNvbHZlKSA9PiB7CiAgICAgIGNvbnN0IHJlYWRlciA9IG5ldyBGaWxlUmVhZGVyKCk7CiAgICAgIHJlYWRlci5vbmxvYWQgPSAoZSkgPT4gewogICAgICAgIHJlc29sdmUoZS50YXJnZXQucmVzdWx0KTsKICAgICAgfTsKICAgICAgcmVhZGVyLnJlYWRBc0FycmF5QnVmZmVyKGZpbGUpOwogICAgfSk7CiAgICAvLyBXYWl0IGZvciB0aGUgZGF0YSB0byBiZSByZWFkeS4KICAgIGxldCBmaWxlRGF0YSA9IHlpZWxkIHsKICAgICAgcHJvbWlzZTogZmlsZURhdGFQcm9taXNlLAogICAgICByZXNwb25zZTogewogICAgICAgIGFjdGlvbjogJ2NvbnRpbnVlJywKICAgICAgfQogICAgfTsKCiAgICAvLyBVc2UgYSBjaHVua2VkIHNlbmRpbmcgdG8gYXZvaWQgbWVzc2FnZSBzaXplIGxpbWl0cy4gU2VlIGIvNjIxMTU2NjAuCiAgICBsZXQgcG9zaXRpb24gPSAwOwogICAgZG8gewogICAgICBjb25zdCBsZW5ndGggPSBNYXRoLm1pbihmaWxlRGF0YS5ieXRlTGVuZ3RoIC0gcG9zaXRpb24sIE1BWF9QQVlMT0FEX1NJWkUpOwogICAgICBjb25zdCBjaHVuayA9IG5ldyBVaW50OEFycmF5KGZpbGVEYXRhLCBwb3NpdGlvbiwgbGVuZ3RoKTsKICAgICAgcG9zaXRpb24gKz0gbGVuZ3RoOwoKICAgICAgY29uc3QgYmFzZTY0ID0gYnRvYShTdHJpbmcuZnJvbUNoYXJDb2RlLmFwcGx5KG51bGwsIGNodW5rKSk7CiAgICAgIHlpZWxkIHsKICAgICAgICByZXNwb25zZTogewogICAgICAgICAgYWN0aW9uOiAnYXBwZW5kJywKICAgICAgICAgIGZpbGU6IGZpbGUubmFtZSwKICAgICAgICAgIGRhdGE6IGJhc2U2NCwKICAgICAgICB9LAogICAgICB9OwoKICAgICAgbGV0IHBlcmNlbnREb25lID0gZmlsZURhdGEuYnl0ZUxlbmd0aCA9PT0gMCA/CiAgICAgICAgICAxMDAgOgogICAgICAgICAgTWF0aC5yb3VuZCgocG9zaXRpb24gLyBmaWxlRGF0YS5ieXRlTGVuZ3RoKSAqIDEwMCk7CiAgICAgIHBlcmNlbnQudGV4dENvbnRlbnQgPSBgJHtwZXJjZW50RG9uZX0lIGRvbmVgOwoKICAgIH0gd2hpbGUgKHBvc2l0aW9uIDwgZmlsZURhdGEuYnl0ZUxlbmd0aCk7CiAgfQoKICAvLyBBbGwgZG9uZS4KICB5aWVsZCB7CiAgICByZXNwb25zZTogewogICAgICBhY3Rpb246ICdjb21wbGV0ZScsCiAgICB9CiAgfTsKfQoKc2NvcGUuZ29vZ2xlID0gc2NvcGUuZ29vZ2xlIHx8IHt9OwpzY29wZS5nb29nbGUuY29sYWIgPSBzY29wZS5nb29nbGUuY29sYWIgfHwge307CnNjb3BlLmdvb2dsZS5jb2xhYi5fZmlsZXMgPSB7CiAgX3VwbG9hZEZpbGVzLAogIF91cGxvYWRGaWxlc0NvbnRpbnVlLAp9Owp9KShzZWxmKTsK",
              "ok": true,
              "headers": [
                [
                  "content-type",
                  "application/javascript"
                ]
              ],
              "status": 200,
              "status_text": ""
            }
          },
          "base_uri": "https://localhost:8080/",
          "height": 126
        },
        "outputId": "b85a511f-080f-4d12-b86f-dfee1781ad4f"
      },
      "source": [
        "print('Please upload the week2_helper python file')\n",
        "files.upload()"
      ],
      "execution_count": 2,
      "outputs": [
        {
          "output_type": "stream",
          "text": [
            "Please upload the week2_helper python file\n"
          ],
          "name": "stdout"
        },
        {
          "output_type": "display_data",
          "data": {
            "text/html": [
              "\n",
              "     <input type=\"file\" id=\"files-017367a4-61fa-4ce5-a345-b10a1359407d\" name=\"files[]\" multiple disabled\n",
              "        style=\"border:none\" />\n",
              "     <output id=\"result-017367a4-61fa-4ce5-a345-b10a1359407d\">\n",
              "      Upload widget is only available when the cell has been executed in the\n",
              "      current browser session. Please rerun this cell to enable.\n",
              "      </output>\n",
              "      <script src=\"/nbextensions/google.colab/files.js\"></script> "
            ],
            "text/plain": [
              "<IPython.core.display.HTML object>"
            ]
          },
          "metadata": {
            "tags": []
          }
        },
        {
          "output_type": "stream",
          "text": [
            "Saving week2_helpers.py to week2_helpers.py\n"
          ],
          "name": "stdout"
        },
        {
          "output_type": "execute_result",
          "data": {
            "text/plain": [
              "{'week2_helpers.py': b'\"\"\"\\r\\nSpecial Utility Functions for MARK5828 Week 2 Tutorial Content. The functions saved here are unnecessary for the students to learn, but they can read if they are curious.\\r\\nAuthor: James Lin\\r\\nSpecial Thanks: Daniel-Han Chan\\r\\n\"\"\"\\r\\n\\r\\nimport itertools\\r\\nfrom scipy.linalg.blas import ssyrk\\r\\nfrom scipy.linalg.lapack import spotrf, sposv\\r\\nimport numpy as np\\r\\nimport pandas as pd\\r\\n\\r\\nimport urllib.parse\\r\\nimport requests\\r\\n\\r\\ndef convert_to_seconds(time_str):\\r\\n    h, m, s = time_str.split(\":\")\\r\\n    return int(h) * 3600 + int(m) * 60 + round(float(s))\\r\\n\\r\\ndef get_source_language_v2(data):\\r\\n    return data[\"videos\"][0][\"insights\"][\"sourceLanguage\"]\\r\\n\\r\\ndef get_video_duration_v2(data):\\r\\n    return data[\"summarizedInsights\"][\"duration\"][\"seconds\"]\\r\\n\\r\\ndef get_faces_v2(data):\\r\\n    face_names = []\\r\\n    face_duration = []\\r\\n\\r\\n    for i, face in enumerate(data[\"summarizedInsights\"][\"faces\"]):\\r\\n        face_names.append(face[\"name\"])\\r\\n        face_duration.append(round(face[\"seenDuration\"]))\\r\\n\\r\\n    faces = dict(zip(face_names, face_duration))\\r\\n    sorted_faces = dict(sorted(faces.items(), key=lambda x: x[1], reverse=True))\\r\\n\\r\\n    return sorted_faces\\r\\n\\r\\ndef get_topics_v2(data):\\r\\n    \"\"\"Extracts Topics from the Analysed Video using Video Indexer version 2.\\r\\n\\r\\n    Arguments:\\r\\n        data {[json]} -- [Video Indexer Output]\\r\\n\\r\\n    Returns:\\r\\n        [Dictionary - (Topic Name: Topic Duration)] -- [Ranked from highest to lowest score]\\r\\n    \"\"\"\\r\\n    topic_names = []\\r\\n    topic_durations = []\\r\\n    for topic in data[\"summarizedInsights\"][\"topics\"]:\\r\\n        topic_names.append(topic[\"name\"])\\r\\n        duration = 0\\r\\n        for item in topic[\"appearances\"]:\\r\\n            duration += (item[\"endSeconds\"] - item[\"startSeconds\"])\\r\\n        topic_durations.append(round(duration))\\r\\n    topics = dict(zip(topic_names, topic_durations))\\r\\n    sorted_topics = dict(sorted(topics.items(), key=lambda x: x[1], reverse=True))\\r\\n\\r\\n    return sorted_topics\\r\\n\\r\\ndef get_keywords_v2(data):\\r\\n    \"\"\"Extracts Keywords from the Analysed Video using Video Indexer version 2.\\r\\n\\r\\n    Arguments:\\r\\n        data {[json]} -- [Video Indexer Output]\\r\\n\\r\\n    Returns:\\r\\n        [Dictionary - (Keyword Name: Keyword Duration)] -- [Ranked from highest to lowest score]\\r\\n    \"\"\"\\r\\n    keyword_names = []\\r\\n    keyword_durations = []\\r\\n    for keyword in data[\"summarizedInsights\"][\"keywords\"]:\\r\\n        keyword_names.append(keyword[\"name\"])\\r\\n        duration = 0\\r\\n        for item in keyword[\"appearances\"]:\\r\\n            duration += (item[\"endSeconds\"] - item[\"startSeconds\"])\\r\\n        keyword_durations.append(round(duration))\\r\\n    keywords = dict(zip(keyword_names, keyword_durations))\\r\\n    sorted_keywords = dict(sorted(keywords.items(), key=lambda x: x[1], reverse=True))\\r\\n\\r\\n    return sorted_keywords\\r\\n\\r\\ndef get_labels_v2(data):\\r\\n    \"\"\"Extract Labels from the Analysed Video using Video Indexer\\r\\n\\r\\n    Arguments:\\r\\n        data {[json]} -- [Video Indexer Output]\\r\\n\\r\\n    Returns:\\r\\n        [Dictionary - (Label Name: Label SeenDuration)] -- [Ranked from highest to lowest]\\r\\n    \"\"\"\\r\\n\\r\\n    label_names = []\\r\\n    label_durations = []\\r\\n    for label in data[\"summarizedInsights\"][\"labels\"]:\\r\\n        label_names.append(label[\"name\"])\\r\\n        duration = 0\\r\\n        for item in label[\"appearances\"]:\\r\\n            duration += (item[\"endSeconds\"] - item[\"startSeconds\"])\\r\\n        label_durations.append(round(duration))\\r\\n    labels = dict(zip(label_names, label_durations))\\r\\n    sorted_labels = dict(sorted(labels.items(), key=lambda x: x[1], reverse=True))\\r\\n\\r\\n    return sorted_labels\\r\\n\\r\\ndef get_brands_v2(data):\\r\\n    \"\"\"[summary]\\r\\n\\r\\n    Arguments:\\r\\n        data {[type]} -- [description]\\r\\n\\r\\n    Returns:\\r\\n        Dictionary -- [Key - Brand Name: Value - (Seen Duration (s), Confidence, Description)]\\r\\n    \"\"\"\\r\\n\\r\\n    brand_name = []\\r\\n    brand_duration = []\\r\\n    for brand in data[\"summarizedInsights\"][\"brands\"]:\\r\\n        brand_name.append(brand[\"name\"])\\r\\n        brand_duration.append(round(brand[\"seenDuration\"]))\\r\\n\\r\\n    brands = dict(zip(brand_name, brand_duration))\\r\\n    sorted_brands = dict(sorted(brands.items(), key=lambda x: x[1], reverse=True))\\r\\n\\r\\n    return sorted_brands\\r\\n\\r\\ndef get_emotions_v2(data):\\r\\n    emotion_names = []\\r\\n    emotion_durations = []\\r\\n    for emotion in data[\"summarizedInsights\"][\"emotions\"]:\\r\\n        emotion_names.append(emotion[\"type\"])\\r\\n        duration = 0\\r\\n        for item in emotion[\"appearances\"]:\\r\\n            duration += (item[\"endSeconds\"] - item[\"startSeconds\"])\\r\\n        emotion_durations.append(round(duration))\\r\\n    emotions = dict(zip(emotion_names, emotion_durations))\\r\\n    sorted_emotions = dict(sorted(emotions.items(), key=lambda x: x[1], reverse=True))\\r\\n\\r\\n    return sorted_emotions\\r\\n\\r\\n\\r\\ndef get_sentiments_v2(data):\\r\\n    sentiments = {\\r\\n        \"Negative\": 0,\\r\\n        \"Neutral\": 0,\\r\\n        \"Positive\": 0\\r\\n    }\\r\\n\\r\\n    for sentiment in data[\"summarizedInsights\"][\"sentiments\"]:\\r\\n        for item in sentiment[\"appearances\"]:\\r\\n            sentiments[sentiment[\"sentimentKey\"]] += round(item[\"endSeconds\"] - item[\"startSeconds\"])\\r\\n\\r\\n    return sentiments\\r\\n\\r\\ndef get_audio_effects_v2(data):\\r\\n    effect_names = []\\r\\n    effect_durations = []\\r\\n    for effect in data[\"summarizedInsights\"][\"audioEffects\"]:\\r\\n        effect_names.append(effect[\"audioEffectKey\"])\\r\\n        duration = 0\\r\\n        for item in effect[\"appearances\"]:\\r\\n            duration += (item[\"endSeconds\"] - item[\"startSeconds\"])\\r\\n        effect_durations.append(round(duration))\\r\\n    effects = dict(zip(effect_names, effect_durations))\\r\\n    sorted_effects = dict(sorted(effects.items(), key=lambda x: x[1], reverse=True))\\r\\n\\r\\n    return sorted_effects\\r\\n\\r\\ndef get_statistics_v2(data):\\r\\n    return data[\"summarizedInsights\"][\"statistics\"]\\r\\n\\r\\ndef get_ocr_v2(data):\\r\\n    try:\\r\\n        ocr_names = []\\r\\n        ocr_durations = []\\r\\n        ocr_left = []\\r\\n        ocr_top = []\\r\\n        ocr_width = []\\r\\n        ocr_height = []\\r\\n        for ocr in data[\"videos\"][0][\"insights\"][\"ocr\"]:\\r\\n            ocr_names.append(ocr[\"text\"])\\r\\n            ocr_left.append(ocr[\"left\"])\\r\\n            ocr_top.append(ocr[\"top\"])\\r\\n            ocr_width.append(ocr[\"width\"])\\r\\n            ocr_height.append(ocr[\"height\"])\\r\\n            duration = 0\\r\\n            for item in ocr[\"instances\"]:\\r\\n                duration += convert_to_seconds(item[\"end\"]) - convert_to_seconds(item[\"start\"])\\r\\n            ocr_durations.append(round(duration))\\r\\n        ocrs = dict(zip(ocr_names, zip(ocr_durations, ocr_left, ocr_top, ocr_width, ocr_height)))\\r\\n        sorted_ocrs = dict(sorted(ocrs.items(), key=lambda x: x[1], reverse=True))\\r\\n    except Exception as e:\\r\\n        sorted_ocrs = {}\\r\\n\\r\\n    return sorted_ocrs\\r\\n\\r\\ndef get_transcript_v2(data):\\r\\n    \"\"\"[summary]\\r\\n\\r\\n    Arguments:\\r\\n        data {[type]} -- [description]\\r\\n\\r\\n    Returns:\\r\\n        [String] -- [Transcript for the whole video]\\r\\n    \"\"\"\\r\\n\\r\\n    try:\\r\\n        transcript = \"\"\\r\\n        for block in data[\"videos\"][0][\"insights\"][\"transcript\"]:\\r\\n            transcript += (block[\"text\"] + \" \")\\r\\n    except Exception as e:\\r\\n        transcript = \"\"\\r\\n    return transcript\\r\\n\\r\\ndef get_shots_v2(data):\\r\\n    shot_id = []\\r\\n    shot_duration = []\\r\\n    for shot in data[\"videos\"][0][\"insights\"][\"shots\"]:\\r\\n        shot_id.append(shot[\"id\"])\\r\\n        duration = 0\\r\\n        for item in shot[\"keyFrames\"]:\\r\\n            for item_ in item[\"instances\"]:\\r\\n                duration += convert_to_seconds(item_[\"end\"]) - convert_to_seconds(item_[\"start\"])\\r\\n        shot_duration.append(round(duration))\\r\\n    shots = dict(zip(shot_id, shot_duration))\\r\\n    sorted_shots = dict(sorted(shots.items(), key=lambda x: x[1], reverse=True))\\r\\n\\r\\n    return sorted_shots\\r\\n\\r\\ndef get_frame_patterns_v2(data):\\r\\n    try:\\r\\n        frame_names = []\\r\\n        frame_durations = []\\r\\n        for frame in data[\"videos\"][0][\"insights\"][\"framePatterns\"]:\\r\\n            frame_names.append(frame[\"patternType\"])\\r\\n            duration = 0\\r\\n            for item in frame[\"instances\"]:\\r\\n                duration += convert_to_seconds(item[\"end\"]) - convert_to_seconds(item[\"start\"])\\r\\n            frame_durations.append(round(duration))\\r\\n        frames = dict(zip(frame_names, frame_durations))\\r\\n        sorted_frames = dict(sorted(frames.items(), key=lambda x: x[1], reverse=True))\\r\\n    except Exception as e:\\r\\n#         print(\"Error: \" + data[\"name\"] + \" - \" + str(e))\\r\\n        sorted_frames = {}\\r\\n\\r\\n    return sorted_frames\\r\\n\\r\\ndef get_text_content_mod_v2(data):\\r\\n    return data[\"videos\"][0][\"insights\"][\"textualContentModeration\"]\\r\\n\\r\\ndef get_video_variables_v2(idx, data):\\r\\n    return {\\r\\n        \"id\": idx,\\r\\n        \"indexer_source_language\": get_source_language_v2(data),\\r\\n        \"indexer_duration\": get_video_duration_v2(data),\\r\\n        \"indexer_faces\": get_faces_v2(data),\\r\\n        \"indexer_topics\": get_topics_v2(data),\\r\\n        \"indexer_keywords\": get_keywords_v2(data),\\r\\n        \"indexer_labels\": get_labels_v2(data),\\r\\n        \"indexer_brands\": get_brands_v2(data),\\r\\n        \"indexer_emotions\": get_emotions_v2(data),\\r\\n        \"indexer_sentiment_positive\": get_sentiments_v2(data)[\"Positive\"],\\r\\n        \"indexer_sentiment_neutral\": get_sentiments_v2(data)[\"Neutral\"],\\r\\n        \"indexer_sentiment_negative\": get_sentiments_v2(data)[\"Negative\"],\\r\\n        \"indexer_audio_effects\": get_audio_effects_v2(data),\\r\\n        \"indexer_statistics\": get_statistics_v2(data),\\r\\n        \"indexer_ocr\": get_ocr_v2(data), \\r\\n        \"indexer_transcript\": get_transcript_v2(data),\\r\\n        \"indexer_shots\": get_shots_v2(data),\\r\\n        \"indexer_frame_patterns\": get_frame_patterns_v2(data),\\r\\n        \"indexer_content_moderation_banned_words_count\": get_text_content_mod_v2(data)[\"bannedWordsCount\"],\\r\\n        \"indexer_content_moderation_banned_words_ratio\": get_text_content_mod_v2(data)[\"bannedWordsRatio\"]\\r\\n    }\\r\\n\\r\\n\\r\\ndef create_item_dummies(df, column, num):\\r\\n    print(\"Processing: \" + str(column))\\r\\n    df_copy = df.copy()\\r\\n\\r\\n    item_counts = df_copy[column].apply(lambda d: {k: 1 for k in d.keys()})\\r\\n    item_iterator = itertools.accumulate(item_counts, lambda x, y: { k: x.get(k, 0) + y.get(k, 0) for k in set(x) | set(y) })\\r\\n    final_item_count = {}\\r\\n    for final_item_count in item_iterator:\\r\\n        pass\\r\\n    sorted_item_count = sorted(final_item_count.items(), key=lambda kv: kv[1], reverse=True)\\r\\n\\r\\n    sorted_item_keys = [item[0] for item in sorted_item_count]\\r\\n    for item_key in sorted_item_keys[:num]:\\r\\n        new_column_name = column + \"_\" + item_key.lower().replace(\" \", \"_\")\\r\\n        df_copy[new_column_name] = df[column].apply(item_match, args=(item_key,))\\r\\n\\r\\n    return df_copy\\r\\n\\r\\n\\r\\ndef item_match(item_dict, item_value):\\r\\n    if item_value in item_dict.keys():\\r\\n        return item_dict[item_value]\\r\\n    else:\\r\\n        return 0\\r\\n\\r\\ndef get_ocr_area(item):\\r\\n    if item == 0:\\r\\n        return 0\\r\\n    else:\\r\\n        _, _, _, width, height = item\\r\\n        return width * height\\r\\n\\r\\ndef get_ocr_duration(item):\\r\\n    if item == 0:\\r\\n        return 0\\r\\n    else:\\r\\n        return item[0]\\r\\n\\r\\ndef video_indexer_to_df(json_list, video_ids=[]):\\r\\n    \"\"\"\\r\\n    Inputs\\r\\n        json_list: List of Video Indexer Data\\r\\n        video_ids: [Optional] List of Video IDs\\r\\n\\r\\n    Outputs\\r\\n        Clean DataFrame representation of the json_list\\r\\n    \"\"\"\\r\\n    if len(video_ids) == 0:\\r\\n        video_ids = range(len(json_list))\\r\\n    video_indexer_attributes = []\\r\\n    for idx, item in zip(video_ids, json_list):\\r\\n        video_indexer_attributes.append(get_video_variables_v2(idx, item))\\r\\n\\r\\n    df_indexer = pd.DataFrame(video_indexer_attributes)\\r\\n\\r\\n    # Play around with numerical values\\r\\n    create_item_dummies_list = {\\r\\n        \"indexer_audio_effects\": 50,\\r\\n        \"indexer_brands\": 50,\\r\\n        \"indexer_emotions\": 50,\\r\\n        \"indexer_frame_patterns\": 50,\\r\\n        \"indexer_keywords\": 50,\\r\\n        \"indexer_labels\": 50,\\r\\n        \"indexer_ocr\": 50,\\r\\n        \"indexer_topics\": 50,\\r\\n    }\\r\\n\\r\\n\\r\\n    for key, value in create_item_dummies_list.items():\\r\\n        df_indexer = create_item_dummies(df_indexer, key, value)\\r\\n\\r\\n    for column in df_indexer.columns:\\r\\n        if \"indexer_ocr_\" in column:\\r\\n            df_indexer[column + \"_area\"] = df_indexer[column].apply(get_ocr_area)\\r\\n            df_indexer[column] = df_indexer[column].apply(get_ocr_duration)\\r\\n\\r\\n    df_indexer[\"indexer_num_faces\"] = df_indexer[\"indexer_faces\"].apply(lambda x: len(x))\\r\\n    df_indexer[\"indexer_num_shots\"] = df_indexer[\"indexer_shots\"].apply(lambda x: len(x))\\r\\n    df_indexer[\"indexer_transcript\"] = df_indexer[\"indexer_transcript\"].apply(lambda x: len(x.split()))\\r\\n    df_indexer[\"indexer_statistics_correspondence_count\"] = df_indexer[\"indexer_statistics\"].apply(lambda x: x[\"correspondenceCount\"])\\r\\n\\r\\n    columns_remove = [\\r\\n        \"indexer_audio_effects\",\\r\\n        \"indexer_brands\",\\r\\n        \"indexer_emotions\",\\r\\n        \"indexer_faces\",\\r\\n        \"indexer_frame_patterns\",\\r\\n        \"indexer_keywords\",\\r\\n        \"indexer_labels\",\\r\\n        \"indexer_ocr\",\\r\\n        \"indexer_shots\",\\r\\n        \"indexer_statistics\",\\r\\n        \"indexer_topics\"\\r\\n    ]\\r\\n\\r\\n    df_indexer_clean = df_indexer.drop(columns=columns_remove, axis=1)\\r\\n    return df_indexer_clean\\r\\n\\r\\n\\r\\nfrom scipy.linalg.lapack import spotrf, spotri\\r\\nfrom scipy.linalg.blas import ssyrk, ssymm\\r\\nfrom scipy import stats\\r\\nimport pandas as pd\\r\\n\\r\\ndef p_value(X, y):\\r\\n\\t\\r\\n\\tn, p = X.shape\\r\\n\\t\\r\\n\\t## Get Cholesky factor to check multicollinearity\\r\\n\\tif type(X) is pd.DataFrame:\\r\\n\\t\\ttry:\\r\\n\\t\\t\\tX[\"Bias\"];\\r\\n\\t\\texcept:\\r\\n\\t\\t\\tX[\"Bias\"] = 1\\r\\n\\t\\t\\tp += 1\\r\\n\\t\\tnames = np.array(X.columns)\\r\\n\\t\\tX = X.values\\r\\n\\telse:\\r\\n\\t\\tp += 1\\r\\n\\t\\tnames = np.arange(p, dtype = int).astype(str)\\r\\n\\t\\tnames[-1] = \"Bias\"\\r\\n\\t\\tX = np.hstack((X, np.ones((n,1), dtype = X.dtype)))\\r\\n\\tif type(y) is pd.Series:\\r\\n\\t\\ty = y.values\\r\\n\\t\\r\\n\\t## Get choleksy factor\\r\\n\\tXTX = ssyrk(a = X.T, alpha = 1)\\r\\n\\ttemp = XTX.T.copy().T\\r\\n\\terror = 1\\r\\n\\tselect = np.ones(p, dtype = np.bool_)\\r\\n\\tVIF = np.ones(p, dtype = np.float32)\\r\\n\\t\\r\\n\\tadd = 1e4\\r\\n\\twhile error != 0:\\r\\n\\t\\tC, error = spotrf(a = temp)\\r\\n\\t\\tif error != 0:\\r\\n\\t\\t\\terror -= 1\\r\\n\\t\\t\\tselect[error] = False\\r\\n\\t\\t\\tVIF[error] /= (error + 1e-6)\\r\\n\\t\\t\\ttemp[error, error] += add\\r\\n\\t\\t\\terror += 1\\r\\n\\t\\t\\tadd *= 10\\r\\n\\tdel temp, C\\r\\n\\treturn select, VIF\\r\\n\\r\\n\\tXTX = XTX[select][:,select]\\r\\n\\tC, error = spotrf(a = XTX, overwrite_a = True)\\r\\n\\t\\r\\n\\tinv, error = spotri(c = C)\\r\\n\\t\\r\\n\\t\\r\\n\\t## Actual regression coefficients\\r\\n\\tXTy = X[:,select].T @ y\\r\\n\\tcoef = ssymm(alpha = 1, a = inv, b = XTy).ravel()\\r\\n\\tdel XTy\\r\\n\\ttheta = np.zeros(p, dtype = X.dtype)\\r\\n\\ttheta[select] = coef\\r\\n\\t\\r\\n\\t## Standard error\\r\\n\\ty_hat = X @ theta\\r\\n\\te = (y - y_hat)**2\\r\\n\\tMSE = (e.sum())/(n- p)\\r\\n\\tSE = MSE**0.5\\r\\n\\t\\r\\n\\t## Coefficient errors\\r\\n\\tdiags = (inv.diagonal())**0.5 * SE\\r\\n\\tdel inv\\r\\n\\tgood = diags!=0\\r\\n\\tT = np.zeros(np.sum(select), dtype = X.dtype)\\r\\n\\tT[good] = coef[good]/diags[good]\\r\\n\\r\\n\\tp_values = 2*(stats.t.sf(abs(T), n-p))  # 2*(1-cdf)\\r\\n\\tdel T\\r\\n\\tp = np.ones(p, dtype = X.dtype)\\r\\n\\tp[select] = p_values\\r\\n\\t\\r\\n\\t## print out\\r\\n\\tdiag = np.zeros(X.shape[1], dtype = X.dtype)\\r\\n\\tdiag[select] = diags\\r\\n\\tdel diags\\r\\n\\t\\r\\n\\tdf = pd.DataFrame({\"Names\":names, \"Coef\":theta, \"P_values\":p,\"SE\":diag})\\r\\n\\tdel diag\\r\\n\\t\\r\\n\\tdf[\"Significant\"] = \"\"\\r\\n\\tdf.loc[p<=0.001, \"Significant\"] = \"+++\"\\r\\n\\tdf.loc[(p<=0.01) & (p>0.001), \"Significant\"] = \"++\"\\r\\n\\tdf.loc[(p<=0.1) & (p>0.01), \"Significant\"] = \"+\"\\r\\n\\tdf.loc[(p<=0.2) & (p>0.1), \"Significant\"] = \"-\"\\r\\n\\tdf.loc[p>0.2, \"Significant\"] = \"---\"\\r\\n\\tdf.sort_values(by = [\"P_values\",\"Coef\"], ascending = [True, False], inplace = True)\\r\\n\\tdf = df.round(5)\\r\\n\\tdel p\\r\\n\\t\\r\\n\\t\\r\\n\\t## Print formula\\r\\n\\tgood = df[\"Significant\"]==\"+++\"\\r\\n\\tgood = good.index[good]\\r\\n\\tstring = \"y = \"\\r\\n\\tend = False\\r\\n\\tj = 0\\r\\n\\tfor i in good:\\r\\n\\t\\tcoef, name = df.loc[i][[\"Coef\",\"Names\"]]\\r\\n\\t\\tif name != \"Bias\":\\r\\n\\t\\t\\tif coef < 0:\\r\\n\\t\\t\\t\\tstring += \"-{}*[{}] \".format(abs(coef), name)\\r\\n\\t\\t\\telse:\\r\\n\\t\\t\\t\\tstring += \"+{}*[{}] \".format(coef, name)\\r\\n\\t\\telse:\\r\\n\\t\\t\\tbias = coef\\r\\n\\t\\t\\tend = True\\r\\n\\t\\tj += 1\\r\\n\\t\\tif j > 10: break\\r\\n\\tif end:\\r\\n\\t\\tif bias < 0:\\r\\n\\t\\t\\tstring += \"-{}\".format(abs(bias))\\r\\n\\t\\telse:\\r\\n\\t\\t\\tstring += \"+{}\".format(bias)\\r\\n\\t\\r\\n\\tprint(string)\\r\\n\\treturn df\\r\\n\\r\\n\\r\\n\\r\\ndef multicollinearity(X, y):\\r\\n\\tn, p = X.shape\\r\\n\\t\\r\\n\\t## Get Cholesky factor to check multicollinearity\\r\\n\\tif type(X) is pd.DataFrame:\\r\\n\\t\\ttry:\\r\\n\\t\\t\\tX[\"Bias\"];\\r\\n\\t\\texcept:\\r\\n\\t\\t\\tX[\"Bias\"] = 1\\r\\n\\t\\t\\tp += 1\\r\\n\\t\\tnames = np.array(X.columns)\\r\\n\\t\\tX = X.values\\r\\n\\telse:\\r\\n\\t\\tp += 1\\r\\n\\t\\tnames = np.arange(p, dtype = int).astype(str)\\r\\n\\t\\tnames[-1] = \"Bias\"\\r\\n\\t\\tX = np.hstack((X, np.ones((n,1), dtype = X.dtype)))\\r\\n\\tif type(y) is pd.Series:\\r\\n\\t\\ty = y.values\\r\\n\\t\\r\\n\\t## Get choleksy factor\\r\\n\\tXTX = ssyrk(a = X.T, alpha = 1)\\r\\n\\ttemp = XTX.T.copy().T\\r\\n\\terror = 1\\r\\n\\tselect = np.ones(p, dtype = np.bool_)\\r\\n\\tVIF = np.ones(p, dtype = np.float32)\\r\\n\\t\\r\\n\\tadd = 1e4\\r\\n\\twhile error != 0:\\r\\n\\t\\tC, error = spotrf(a = temp)\\r\\n\\t\\tif error != 0:\\r\\n\\t\\t\\terror -= 1\\r\\n\\t\\t\\tselect[error] = False\\r\\n\\t\\t\\tVIF[error] /= (error + 1e-6)\\r\\n\\t\\t\\ttemp[error, error] += add\\r\\n\\t\\t\\terror += 1\\r\\n\\t\\t\\tadd *= 10\\r\\n\\tdel temp, C\\r\\n\\treturn select, VIF\\r\\n\\r\\n\\r\\nfrom scipy.linalg.blas import ssyrk\\r\\nfrom scipy.linalg.lapack import sposv\\r\\nimport numpy as np, pandas as pd\\r\\n\\r\\ndef variance_inflation_factor(X):\\r\\n    df = X.copy()\\r\\n    if type(X) is pd.DataFrame:\\r\\n        X = X.values\\r\\n    n, p = X.shape\\r\\n    XTX = X.T @ X\\r\\n\\r\\n    select = np.ones(p, dtype = bool)\\r\\n\\r\\n    temp = XTX.copy()\\r\\n    error = 1\\r\\n    largest = XTX.diagonal().max() // 2\\r\\n    add = largest\\r\\n    maximum = np.finfo(np.float32).max\\r\\n    k = largest // 4\\r\\n\\r\\n    while error != 0:\\r\\n        C, error = spotrf(a = temp.T)\\r\\n        if error != 0:\\r\\n            error -= 1\\r\\n            select[error] = False\\r\\n            temp[error, error] += add\\r\\n            error += 1\\r\\n\\t\\t\\t\\r\\n            add += k\\r\\n            add *= k\\r\\n            if add > maximum:\\r\\n                add = largest\\r\\n        k += 1\\r\\n\\r\\n    VIF = np.empty(p, dtype = np.float32)\\r\\n    means = np.mean(X, axis = 0)\\r\\n\\t\\r\\n    for i in range(p):\\r\\n        curr = select.copy()\\r\\n        if curr[i] == False:\\r\\n            VIF[i] = np.inf\\r\\n            continue\\r\\n        curr[i] = False\\r\\n\\t\\t\\r\\n        XX = XTX[curr]\\r\\n        xtx = XX[:, curr]\\r\\n        xty = XX[:,i]\\r\\n        y_x = X[:,i]\\r\\n\\r\\n        theta_x = sposv(xtx, xty)[1]\\r\\n        y_hat = X[:,curr] @ theta_x\\r\\n\\t\\t\\r\\n        SS_res = y_x-y_hat\\r\\n        SS_res = np.einsum(\\'i,i\\', SS_res, SS_res)\\r\\n\\t\\t#SS_res = np.sum((y_x - y_hat)**2)\\r\\n\\t\\t\\r\\n        SS_tot = y_x - means[i]\\r\\n        SS_tot = np.einsum(\\'i,i\\', SS_tot, SS_tot)\\r\\n\\t\\t#SS_tot = np.sum((y_x - np.mean(y_x))**2)\\r\\n        if SS_tot == 0:\\r\\n            R2 = 1\\r\\n            VIF[i] = np.inf\\r\\n        else:\\r\\n            R2 = 1 - (SS_res/SS_tot)\\r\\n            VIF[i] = 1/(1-R2)\\r\\n    df_vif = pd.DataFrame({\"vif\": VIF})\\r\\n    df_vif = df_vif.set_index(df.columns)\\r\\n    return df_vif\\r\\n\\t#return VIF\\r\\n\\r\\nclass VideoIndexerClientV2():\\r\\n    \"\"\"Microsoft Video Indexer Wrapper Class\"\"\"\\r\\n    def __init__(self, subscription_key, location, account_id):\\r\\n        self._subscription_key = subscription_key\\r\\n        self._location = location\\r\\n        self._account_id = account_id\\r\\n\\r\\n    def get_account_access_token(self, allow_edit=True):\\r\\n        \"\"\"Gets user account access token, which is required to make calls to APIs listed under \"operation\".\"\"\"\\r\\n\\r\\n        headers = {\\r\\n            \\'Ocp-Apim-Subscription-Key\\': self._subscription_key,\\r\\n        }\\r\\n\\r\\n        params = urllib.parse.urlencode({\\r\\n            \\'allowEdit\\': str(allow_edit),\\r\\n        })\\r\\n        try:\\r\\n            url = \"https://api.videoindexer.ai/auth/\" + self._location + \"/Accounts/\" + self._account_id + \"/AccessToken?\"\\r\\n            return requests.get(url, params=params, headers=headers).json()\\r\\n        except Exception as e:\\r\\n            print(\"Get Account Access Token Error: \" + str(e))\\r\\n            return None\\r\\n\\r\\n    def delete_video(self, video_id):\\r\\n        \"\"\"\\r\\n        Deletes an uploaded Video Indexer video provided its video_id.\\r\\n        NOTE: video_id is NOT the same as external_id. Use \"get_video_id_by_external_id()\" to get the video_id, or\\r\\n        find it in the .JSON output file.\\r\\n        \"\"\"\\r\\n        access_token = self.get_account_access_token()\\r\\n        headers = {\\r\\n        }\\r\\n\\r\\n        params = urllib.parse.urlencode({\\r\\n            \\'accessToken\\': access_token,\\r\\n        })\\r\\n\\r\\n        try:\\r\\n            url = \"https://api.videoindexer.ai/\" + self._location + \"/Accounts/\" + self._account_id + \"/Videos/\" + video_id + \"?\"\\r\\n            return requests.delete(url, params=params, headers=headers)\\r\\n        except Exception as e:\\r\\n            print(\"Delete Video Error: \" + video_id + \": \" + str(e))\\r\\n            return None\\r\\n\\r\\n    def list_videos(self):\\r\\n        \"\"\"\\r\\n        Lists all the videos that are currently uploaded on Microsoft Video Indexer.\\r\\n        https://www.videoindexer.ai/\\r\\n        \"\"\"\\r\\n        access_token = self.get_account_access_token()\\r\\n        headers = {\\r\\n            # Request headers\\r\\n            \\'Content-Type\\': \\'application/json\\',\\r\\n        }\\r\\n\\r\\n        params = urllib.parse.urlencode({\\r\\n            \\'accessToken\\': access_token,\\r\\n        })\\r\\n\\r\\n        try:\\r\\n            url = \"https://api.videoindexer.ai/\" + self._location + \"/Accounts/\" + self._account_id + \"/Videos?\"\\r\\n            return requests.get(url, params=params, headers=headers).json()\\r\\n        except Exception as e:\\r\\n            print(\"List Videos Error: \" + str(e))\\r\\n            return None\\r\\n\\r\\n    def search_videos(self, external_id):\\r\\n        \"\"\"\\r\\n        Searches for an uploaded video by its external_id.\\r\\n        \"\"\"\\r\\n        access_token = self.get_account_access_token()\\r\\n        headers = {}\\r\\n\\r\\n        params = urllib.parse.urlencode({\\r\\n            # Request parameters\\r\\n            \\'externalId\\': external_id,\\r\\n            \\'accessToken\\': access_token,\\r\\n        })\\r\\n\\r\\n        try:\\r\\n            url = \"https://api.videoindexer.ai/\" + self._location + \"/Accounts/\" + self._account_id + \"/Videos/Search?\"\\r\\n            return requests.get(url, params=params, headers=headers).json()\\r\\n        except Exception as e:\\r\\n            print(\"Search Videos Error: \" + external_id + \": \" + str(e))\\r\\n            return None\\r\\n\\r\\n    def get_video_id_by_external_id(self, external_id):\\r\\n        \"\"\"\\r\\n        Retrieves the video_id (used for get_video_index) from the external_id.\\r\\n        \"\"\"\\r\\n        access_token = self.get_account_access_token()\\r\\n        headers = {}\\r\\n\\r\\n        params = urllib.parse.urlencode({\\r\\n            # Request parameters\\r\\n            \\'externalId\\': external_id,\\r\\n            \\'accessToken\\': access_token,\\r\\n        })\\r\\n\\r\\n        try:\\r\\n            url = \"https://api.videoindexer.ai/\" + self._location + \"/Accounts/\" + self._account_id + \"/Videos/GetIdByExternalId?\"\\r\\n            return requests.get(url, params=params, headers=headers).json()\\r\\n        except Exception as e:\\r\\n            print(\"Get Video Id by External Id Error: \" + external_id + \": \" + str(e))\\r\\n            return None\\r\\n\\r\\n\\r\\n    def get_video_index(self, video_id):\\r\\n        \"\"\"\\r\\n        Retrieves the JSON output file detailing the Video Indexer\\'s analysis results.\\r\\n        See https://docs.microsoft.com/en-us/azure/media-services/video-indexer/video-indexer-output-json-v2\\r\\n        \"\"\"\\r\\n        access_token = self.get_account_access_token()\\r\\n        headers = {}\\r\\n\\r\\n        params = urllib.parse.urlencode({\\r\\n            \\'accessToken\\': access_token,\\r\\n        })\\r\\n\\r\\n        try:\\r\\n            url = \"https://api.videoindexer.ai/\" + self._location + \"/Accounts/\" + self._account_id + \"/Videos/\" + video_id + \"/Index?\"\\r\\n            return requests.get(url, params=params, headers=headers).json()\\r\\n        except Exception as e:\\r\\n            print(\"Get Video Index Error: \" + video_id + \": \" + str(e))\\r\\n            return None\\r\\n\\r\\n    def upload_video(self, name, video_url, description, external_id, privacy=\"Private\"):\\r\\n        \"\"\"\\r\\n        Upload a video to Video Indexer using an online url.\\r\\n        \"\"\"\\r\\n        access_token = self.get_account_access_token()\\r\\n        headers = {\\r\\n            # Request headers\\r\\n            \\'Content-Type\\': \\'multipart/form-data\\',\\r\\n        }\\r\\n\\r\\n        params = urllib.parse.urlencode({\\r\\n            # Request parameters\\r\\n            \\'accessToken\\': access_token,\\r\\n            \\'videoUrl\\': video_url,\\r\\n            \\'name\\': name,\\r\\n            \\'description\\': description,\\r\\n            \\'externalId\\': external_id,\\r\\n            \\'privacy\\': privacy,\\r\\n        })\\r\\n\\r\\n        try:\\r\\n            print(\"Uploading Video: \" + external_id)\\r\\n            url = \"https://api.videoindexer.ai/\" + self._location + \"/Accounts/\" + self._account_id + \"/Videos?\"\\r\\n            return requests.post(url, params=params, headers=headers).json()\\r\\n        except Exception as e:\\r\\n            print(\"Upload Video Error \" + external_id + \": \" + str(e))\\r\\n            return None\\r\\n\\r\\n    def upload_video_local(self, name, video_path, description, external_id, privacy=\"Private\"):\\r\\n        \"\"\"\\r\\n        Upload a video to Video Indexer using a video path local to your computer (or google colaboratory)\\r\\n        \"\"\"\\r\\n        access_token = self.get_account_access_token()\\r\\n        headers = {\\r\\n            # Request headers\\r\\n            \\'Content-Type\\': \\'multipart/form-data\\',\\r\\n        }\\r\\n\\r\\n        params = urllib.parse.urlencode({\\r\\n            \\'location\\' : self._location,\\r\\n            \\'accountId\\' : self._account_id,\\r\\n            \\'accessToken\\': access_token,\\r\\n            \\'name\\': name,\\r\\n            \\'description\\': description,\\r\\n            \\'externalId\\': external_id,\\r\\n            \\'privacy\\': privacy,\\r\\n        })\\r\\n\\r\\n        try:\\r\\n            print(\"Uploading Video: \" + name)\\r\\n\\r\\n            url = \"https://api.videoindexer.ai/\" + self._location + \"/Accounts/\" + self._account_id + \"/Videos?\"\\r\\n\\r\\n            return requests.post(url, params=params,files={\\'file0\\': open(video_path, \\'rb\\')}).json()\\r\\n\\r\\n        except Exception as e:\\r\\n            print(\"Upload Video Error \" + name + \": \" + str(e))\\r\\n            return None\\r\\n\\r\\n\\r\\n    def get_faces(self, video_id):\\r\\n        \"\"\"\\r\\n        NOTE: Used for Public Videos only\\r\\n        Retrieves urls for faces detected in a video.\\r\\n        \"\"\"\\r\\n        access_token = self.get_account_access_token()\\r\\n        face_urls = []\\r\\n        try:\\r\\n            data = self.get_video_index(access_token=access_token, video_id=video_id)\\r\\n            for item in data[\"summarizedInsights\"][\"faces\"]:\\r\\n                face_urls.append(\"https://www.videoindexer.ai/api/v2/accounts/\" + self._account_id + \"/videos/\" + data[\"id\"] + \"/thumbnails/\" + item[\"thumbnailId\"] + \"/\")\\r\\n            return face_urls\\r\\n        except Exception as e:\\r\\n            print(\"Get Faces Error \" + str(video_id) + \": \" + str(e))\\r\\n            return face_urls'}"
            ]
          },
          "metadata": {
            "tags": []
          },
          "execution_count": 2
        }
      ]
    },
    {
      "cell_type": "code",
      "metadata": {
        "id": "sLcw2CiS17Mw"
      },
      "source": [
        "from week2_helpers import variance_inflation_factor"
      ],
      "execution_count": 3,
      "outputs": []
    },
    {
      "cell_type": "code",
      "metadata": {
        "id": "LXbTYvxRC_ET"
      },
      "source": [
        "def file_reader():\n",
        "  \n",
        "  uploaded_file=files.upload()\n",
        "  uploaded_file=list(uploaded_file.keys())[0]\n",
        "  if uploaded_file.endswith('csv'):\n",
        "    data=pd.read_csv(uploaded_file)\n",
        "  else:\n",
        "    data=pd.read_excel(uploaded_file)\n",
        "  return data"
      ],
      "execution_count": 4,
      "outputs": []
    },
    {
      "cell_type": "code",
      "metadata": {
        "id": "dS90oouF2e6M",
        "colab": {
          "resources": {
            "http://localhost:8080/nbextensions/google.colab/files.js": {
              "data": "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",
              "ok": true,
              "headers": [
                [
                  "content-type",
                  "application/javascript"
                ]
              ],
              "status": 200,
              "status_text": ""
            }
          },
          "base_uri": "https://localhost:8080/",
          "height": 89
        },
        "outputId": "21ae98f1-01fb-4b40-8beb-a911a9d78756"
      },
      "source": [
        "print('Please upload the merged data')\n",
        "merged_data=file_reader()"
      ],
      "execution_count": 5,
      "outputs": [
        {
          "output_type": "stream",
          "text": [
            "Please upload the merged data\n"
          ],
          "name": "stdout"
        },
        {
          "output_type": "display_data",
          "data": {
            "text/html": [
              "\n",
              "     <input type=\"file\" id=\"files-c194ad7d-6d23-44ab-aad0-59c9c85c7d82\" name=\"files[]\" multiple disabled\n",
              "        style=\"border:none\" />\n",
              "     <output id=\"result-c194ad7d-6d23-44ab-aad0-59c9c85c7d82\">\n",
              "      Upload widget is only available when the cell has been executed in the\n",
              "      current browser session. Please rerun this cell to enable.\n",
              "      </output>\n",
              "      <script src=\"/nbextensions/google.colab/files.js\"></script> "
            ],
            "text/plain": [
              "<IPython.core.display.HTML object>"
            ]
          },
          "metadata": {
            "tags": []
          }
        },
        {
          "output_type": "stream",
          "text": [
            "Saving regression_data_signalchain.csv to regression_data_signalchain.csv\n"
          ],
          "name": "stdout"
        }
      ]
    },
    {
      "cell_type": "code",
      "metadata": {
        "id": "K74SXpzACflK",
        "colab": {
          "base_uri": "https://localhost:8080/",
          "height": 326
        },
        "outputId": "48bc886a-bc2f-4036-d648-c7342b964905"
      },
      "source": [
        "merged_data.head()"
      ],
      "execution_count": 6,
      "outputs": [
        {
          "output_type": "execute_result",
          "data": {
            "text/html": [
              "<div>\n",
              "<style scoped>\n",
              "    .dataframe tbody tr th:only-of-type {\n",
              "        vertical-align: middle;\n",
              "    }\n",
              "\n",
              "    .dataframe tbody tr th {\n",
              "        vertical-align: top;\n",
              "    }\n",
              "\n",
              "    .dataframe thead th {\n",
              "        text-align: right;\n",
              "    }\n",
              "</style>\n",
              "<table border=\"1\" class=\"dataframe\">\n",
              "  <thead>\n",
              "    <tr style=\"text-align: right;\">\n",
              "      <th></th>\n",
              "      <th>file</th>\n",
              "      <th>likeCount</th>\n",
              "      <th>desc_len</th>\n",
              "      <th>pubDate</th>\n",
              "      <th>repost</th>\n",
              "      <th>Colorfulness_Picture</th>\n",
              "      <th>Saturation_Picture</th>\n",
              "      <th>Contrast_Picture</th>\n",
              "      <th>Clarity_Picture</th>\n",
              "      <th>Brightness_Picture</th>\n",
              "      <th>Warm Hue_Picture</th>\n",
              "      <th>joy_faces</th>\n",
              "      <th>sorrow_faces</th>\n",
              "      <th>surprise_faces</th>\n",
              "      <th>anger_faces</th>\n",
              "      <th>YesFinalInstrument</th>\n",
              "      <th>yesPerson</th>\n",
              "    </tr>\n",
              "  </thead>\n",
              "  <tbody>\n",
              "    <tr>\n",
              "      <th>0</th>\n",
              "      <td>2</td>\n",
              "      <td>90</td>\n",
              "      <td>421</td>\n",
              "      <td>2017-08-27T21:48:54.000Z</td>\n",
              "      <td>0</td>\n",
              "      <td>10</td>\n",
              "      <td>115.02</td>\n",
              "      <td>50.81</td>\n",
              "      <td>1.00</td>\n",
              "      <td>39.76</td>\n",
              "      <td>0.01</td>\n",
              "      <td>0</td>\n",
              "      <td>0</td>\n",
              "      <td>0</td>\n",
              "      <td>0</td>\n",
              "      <td>0</td>\n",
              "      <td>0</td>\n",
              "    </tr>\n",
              "    <tr>\n",
              "      <th>1</th>\n",
              "      <td>3</td>\n",
              "      <td>75</td>\n",
              "      <td>415</td>\n",
              "      <td>2017-09-08T03:24:14.000Z</td>\n",
              "      <td>0</td>\n",
              "      <td>9</td>\n",
              "      <td>112.29</td>\n",
              "      <td>40.62</td>\n",
              "      <td>1.00</td>\n",
              "      <td>34.41</td>\n",
              "      <td>0.01</td>\n",
              "      <td>0</td>\n",
              "      <td>0</td>\n",
              "      <td>0</td>\n",
              "      <td>0</td>\n",
              "      <td>0</td>\n",
              "      <td>0</td>\n",
              "    </tr>\n",
              "    <tr>\n",
              "      <th>2</th>\n",
              "      <td>4</td>\n",
              "      <td>48</td>\n",
              "      <td>505</td>\n",
              "      <td>2017-08-08T02:33:39.000Z</td>\n",
              "      <td>0</td>\n",
              "      <td>3</td>\n",
              "      <td>30.90</td>\n",
              "      <td>44.82</td>\n",
              "      <td>1.00</td>\n",
              "      <td>31.21</td>\n",
              "      <td>0.16</td>\n",
              "      <td>0</td>\n",
              "      <td>0</td>\n",
              "      <td>0</td>\n",
              "      <td>0</td>\n",
              "      <td>0</td>\n",
              "      <td>0</td>\n",
              "    </tr>\n",
              "    <tr>\n",
              "      <th>3</th>\n",
              "      <td>5</td>\n",
              "      <td>28</td>\n",
              "      <td>129</td>\n",
              "      <td>2014-09-11T09:55:56.000Z</td>\n",
              "      <td>0</td>\n",
              "      <td>42</td>\n",
              "      <td>47.21</td>\n",
              "      <td>65.18</td>\n",
              "      <td>0.99</td>\n",
              "      <td>177.92</td>\n",
              "      <td>0.52</td>\n",
              "      <td>0</td>\n",
              "      <td>0</td>\n",
              "      <td>0</td>\n",
              "      <td>0</td>\n",
              "      <td>1</td>\n",
              "      <td>0</td>\n",
              "    </tr>\n",
              "    <tr>\n",
              "      <th>4</th>\n",
              "      <td>6</td>\n",
              "      <td>58</td>\n",
              "      <td>62</td>\n",
              "      <td>2017-09-12T22:01:55.000Z</td>\n",
              "      <td>0</td>\n",
              "      <td>10</td>\n",
              "      <td>115.80</td>\n",
              "      <td>47.49</td>\n",
              "      <td>1.00</td>\n",
              "      <td>38.01</td>\n",
              "      <td>0.01</td>\n",
              "      <td>0</td>\n",
              "      <td>0</td>\n",
              "      <td>0</td>\n",
              "      <td>0</td>\n",
              "      <td>0</td>\n",
              "      <td>0</td>\n",
              "    </tr>\n",
              "  </tbody>\n",
              "</table>\n",
              "</div>"
            ],
            "text/plain": [
              "   file  likeCount  desc_len  ... anger_faces  YesFinalInstrument  yesPerson\n",
              "0     2         90       421  ...           0                   0          0\n",
              "1     3         75       415  ...           0                   0          0\n",
              "2     4         48       505  ...           0                   0          0\n",
              "3     5         28       129  ...           0                   1          0\n",
              "4     6         58        62  ...           0                   0          0\n",
              "\n",
              "[5 rows x 17 columns]"
            ]
          },
          "metadata": {
            "tags": []
          },
          "execution_count": 6
        }
      ]
    },
    {
      "cell_type": "code",
      "metadata": {
        "id": "KCMUuZasM4j6",
        "colab": {
          "resources": {
            "http://localhost:8080/nbextensions/google.colab/files.js": {
              "data": "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",
              "ok": true,
              "headers": [
                [
                  "content-type",
                  "application/javascript"
                ]
              ],
              "status": 200,
              "status_text": ""
            }
          },
          "base_uri": "https://localhost:8080/",
          "height": 89
        },
        "outputId": "627af27d-07b4-4e83-ec9c-9819da4e1dad"
      },
      "source": [
        "print('Please upload the instagram data')\n",
        "insta_data=file_reader()"
      ],
      "execution_count": 7,
      "outputs": [
        {
          "output_type": "stream",
          "text": [
            "Please upload the instagram data\n"
          ],
          "name": "stdout"
        },
        {
          "output_type": "display_data",
          "data": {
            "text/html": [
              "\n",
              "     <input type=\"file\" id=\"files-7577acdc-e145-46c2-a648-a6a6ec6d4a54\" name=\"files[]\" multiple disabled\n",
              "        style=\"border:none\" />\n",
              "     <output id=\"result-7577acdc-e145-46c2-a648-a6a6ec6d4a54\">\n",
              "      Upload widget is only available when the cell has been executed in the\n",
              "      current browser session. Please rerun this cell to enable.\n",
              "      </output>\n",
              "      <script src=\"/nbextensions/google.colab/files.js\"></script> "
            ],
            "text/plain": [
              "<IPython.core.display.HTML object>"
            ]
          },
          "metadata": {
            "tags": []
          }
        },
        {
          "output_type": "stream",
          "text": [
            "Saving signalchain.csv to signalchain.csv\n"
          ],
          "name": "stdout"
        }
      ]
    },
    {
      "cell_type": "code",
      "metadata": {
        "id": "_WmwN_vdDWKq",
        "colab": {
          "base_uri": "https://localhost:8080/",
          "height": 479
        },
        "outputId": "6af854f9-9619-4119-bb96-2d056d7960d9"
      },
      "source": [
        "insta_data.head()"
      ],
      "execution_count": 8,
      "outputs": [
        {
          "output_type": "execute_result",
          "data": {
            "text/html": [
              "<div>\n",
              "<style scoped>\n",
              "    .dataframe tbody tr th:only-of-type {\n",
              "        vertical-align: middle;\n",
              "    }\n",
              "\n",
              "    .dataframe tbody tr th {\n",
              "        vertical-align: top;\n",
              "    }\n",
              "\n",
              "    .dataframe thead th {\n",
              "        text-align: right;\n",
              "    }\n",
              "</style>\n",
              "<table border=\"1\" class=\"dataframe\">\n",
              "  <thead>\n",
              "    <tr style=\"text-align: right;\">\n",
              "      <th></th>\n",
              "      <th>postUrl</th>\n",
              "      <th>description</th>\n",
              "      <th>commentCount</th>\n",
              "      <th>likeCount</th>\n",
              "      <th>location</th>\n",
              "      <th>locationId</th>\n",
              "      <th>pubDate</th>\n",
              "      <th>likedByViewer</th>\n",
              "      <th>isSidecar</th>\n",
              "      <th>type</th>\n",
              "      <th>caption</th>\n",
              "      <th>profileUrl</th>\n",
              "      <th>username</th>\n",
              "      <th>fullName</th>\n",
              "      <th>taggedFullName1</th>\n",
              "      <th>taggedUsername1</th>\n",
              "      <th>imgUrl</th>\n",
              "      <th>postId</th>\n",
              "      <th>timestamp</th>\n",
              "      <th>query</th>\n",
              "      <th>sidePostUrl</th>\n",
              "      <th>taggedFullName2</th>\n",
              "      <th>taggedUsername2</th>\n",
              "      <th>videoUrl</th>\n",
              "      <th>viewCount</th>\n",
              "      <th>taggedFullName3</th>\n",
              "      <th>taggedUsername3</th>\n",
              "      <th>taggedFullName4</th>\n",
              "      <th>taggedUsername4</th>\n",
              "      <th>taggedFullName5</th>\n",
              "      <th>taggedUsername5</th>\n",
              "      <th>taggedFullName6</th>\n",
              "      <th>taggedUsername6</th>\n",
              "      <th>taggedFullName7</th>\n",
              "      <th>taggedUsername7</th>\n",
              "      <th>taggedFullName8</th>\n",
              "      <th>taggedUsername8</th>\n",
              "      <th>taggedFullName9</th>\n",
              "      <th>taggedUsername9</th>\n",
              "      <th>taggedFullName10</th>\n",
              "      <th>taggedUsername10</th>\n",
              "      <th>taggedFullName11</th>\n",
              "      <th>taggedUsername11</th>\n",
              "      <th>taggedFullName12</th>\n",
              "      <th>taggedUsername12</th>\n",
              "      <th>taggedFullName13</th>\n",
              "      <th>taggedUsername13</th>\n",
              "      <th>taggedFullName14</th>\n",
              "      <th>taggedUsername14</th>\n",
              "      <th>taggedFullName15</th>\n",
              "      <th>taggedUsername15</th>\n",
              "      <th>taggedFullName16</th>\n",
              "      <th>taggedUsername16</th>\n",
              "    </tr>\n",
              "  </thead>\n",
              "  <tbody>\n",
              "    <tr>\n",
              "      <th>0</th>\n",
              "      <td>https://www.instagram.com/p/BYUBpTsgG7Q/</td>\n",
              "      <td>...and what are they?\\n.\\n#80tape #boutiqueeff...</td>\n",
              "      <td>111</td>\n",
              "      <td>90</td>\n",
              "      <td>NaN</td>\n",
              "      <td>NaN</td>\n",
              "      <td>2017-08-27T21:48:54.000Z</td>\n",
              "      <td>NaN</td>\n",
              "      <td>NaN</td>\n",
              "      <td>Photo</td>\n",
              "      <td>NaN</td>\n",
              "      <td>https://www.instagram.com/signalchainmusic/</td>\n",
              "      <td>signalchainmusic</td>\n",
              "      <td>S I G N A L ?????? C H A I N</td>\n",
              "      <td>NaN</td>\n",
              "      <td>NaN</td>\n",
              "      <td>https://scontent-lga3-2.cdninstagram.com/v/t51...</td>\n",
              "      <td>1.590900e+18</td>\n",
              "      <td>2021-06-27T15:31:24.273Z</td>\n",
              "      <td>https://www.instagram.com/signalchainmusic/</td>\n",
              "      <td>NaN</td>\n",
              "      <td>NaN</td>\n",
              "      <td>NaN</td>\n",
              "      <td>NaN</td>\n",
              "      <td>NaN</td>\n",
              "      <td>NaN</td>\n",
              "      <td>NaN</td>\n",
              "      <td>NaN</td>\n",
              "      <td>NaN</td>\n",
              "      <td>NaN</td>\n",
              "      <td>NaN</td>\n",
              "      <td>NaN</td>\n",
              "      <td>NaN</td>\n",
              "      <td>NaN</td>\n",
              "      <td>NaN</td>\n",
              "      <td>NaN</td>\n",
              "      <td>NaN</td>\n",
              "      <td>NaN</td>\n",
              "      <td>NaN</td>\n",
              "      <td>NaN</td>\n",
              "      <td>NaN</td>\n",
              "      <td>NaN</td>\n",
              "      <td>NaN</td>\n",
              "      <td>NaN</td>\n",
              "      <td>NaN</td>\n",
              "      <td>NaN</td>\n",
              "      <td>NaN</td>\n",
              "      <td>NaN</td>\n",
              "      <td>NaN</td>\n",
              "      <td>NaN</td>\n",
              "      <td>NaN</td>\n",
              "      <td>NaN</td>\n",
              "      <td>NaN</td>\n",
              "    </tr>\n",
              "    <tr>\n",
              "      <th>1</th>\n",
              "      <td>https://www.instagram.com/p/BYw8xAWgIgc/</td>\n",
              "      <td>...and how does it take your particular pedals...</td>\n",
              "      <td>67</td>\n",
              "      <td>75</td>\n",
              "      <td>NaN</td>\n",
              "      <td>NaN</td>\n",
              "      <td>2017-09-08T03:24:14.000Z</td>\n",
              "      <td>NaN</td>\n",
              "      <td>NaN</td>\n",
              "      <td>Photo</td>\n",
              "      <td>NaN</td>\n",
              "      <td>https://www.instagram.com/signalchainmusic/</td>\n",
              "      <td>signalchainmusic</td>\n",
              "      <td>S I G N A L ?????? C H A I N</td>\n",
              "      <td>NaN</td>\n",
              "      <td>NaN</td>\n",
              "      <td>https://scontent-lga3-2.cdninstagram.com/v/t51...</td>\n",
              "      <td>1.599050e+18</td>\n",
              "      <td>2021-06-27T15:31:24.273Z</td>\n",
              "      <td>https://www.instagram.com/signalchainmusic/</td>\n",
              "      <td>NaN</td>\n",
              "      <td>NaN</td>\n",
              "      <td>NaN</td>\n",
              "      <td>NaN</td>\n",
              "      <td>NaN</td>\n",
              "      <td>NaN</td>\n",
              "      <td>NaN</td>\n",
              "      <td>NaN</td>\n",
              "      <td>NaN</td>\n",
              "      <td>NaN</td>\n",
              "      <td>NaN</td>\n",
              "      <td>NaN</td>\n",
              "      <td>NaN</td>\n",
              "      <td>NaN</td>\n",
              "      <td>NaN</td>\n",
              "      <td>NaN</td>\n",
              "      <td>NaN</td>\n",
              "      <td>NaN</td>\n",
              "      <td>NaN</td>\n",
              "      <td>NaN</td>\n",
              "      <td>NaN</td>\n",
              "      <td>NaN</td>\n",
              "      <td>NaN</td>\n",
              "      <td>NaN</td>\n",
              "      <td>NaN</td>\n",
              "      <td>NaN</td>\n",
              "      <td>NaN</td>\n",
              "      <td>NaN</td>\n",
              "      <td>NaN</td>\n",
              "      <td>NaN</td>\n",
              "      <td>NaN</td>\n",
              "      <td>NaN</td>\n",
              "      <td>NaN</td>\n",
              "    </tr>\n",
              "    <tr>\n",
              "      <th>2</th>\n",
              "      <td>https://www.instagram.com/p/BXhCVabgj2j/</td>\n",
              "      <td>Mine is David Gilmour's extended solo at the e...</td>\n",
              "      <td>66</td>\n",
              "      <td>48</td>\n",
              "      <td>NaN</td>\n",
              "      <td>NaN</td>\n",
              "      <td>2017-08-08T02:33:39.000Z</td>\n",
              "      <td>NaN</td>\n",
              "      <td>NaN</td>\n",
              "      <td>Photo</td>\n",
              "      <td>NaN</td>\n",
              "      <td>https://www.instagram.com/signalchainmusic/</td>\n",
              "      <td>signalchainmusic</td>\n",
              "      <td>S I G N A L ?????? C H A I N</td>\n",
              "      <td>NaN</td>\n",
              "      <td>NaN</td>\n",
              "      <td>https://scontent-lga3-2.cdninstagram.com/v/t51...</td>\n",
              "      <td>1.576550e+18</td>\n",
              "      <td>2021-06-27T15:31:24.274Z</td>\n",
              "      <td>https://www.instagram.com/signalchainmusic/</td>\n",
              "      <td>NaN</td>\n",
              "      <td>NaN</td>\n",
              "      <td>NaN</td>\n",
              "      <td>NaN</td>\n",
              "      <td>NaN</td>\n",
              "      <td>NaN</td>\n",
              "      <td>NaN</td>\n",
              "      <td>NaN</td>\n",
              "      <td>NaN</td>\n",
              "      <td>NaN</td>\n",
              "      <td>NaN</td>\n",
              "      <td>NaN</td>\n",
              "      <td>NaN</td>\n",
              "      <td>NaN</td>\n",
              "      <td>NaN</td>\n",
              "      <td>NaN</td>\n",
              "      <td>NaN</td>\n",
              "      <td>NaN</td>\n",
              "      <td>NaN</td>\n",
              "      <td>NaN</td>\n",
              "      <td>NaN</td>\n",
              "      <td>NaN</td>\n",
              "      <td>NaN</td>\n",
              "      <td>NaN</td>\n",
              "      <td>NaN</td>\n",
              "      <td>NaN</td>\n",
              "      <td>NaN</td>\n",
              "      <td>NaN</td>\n",
              "      <td>NaN</td>\n",
              "      <td>NaN</td>\n",
              "      <td>NaN</td>\n",
              "      <td>NaN</td>\n",
              "      <td>NaN</td>\n",
              "    </tr>\n",
              "    <tr>\n",
              "      <th>3</th>\n",
              "      <td>https://www.instagram.com/p/szQvgyNpkF/</td>\n",
              "      <td>We want to know! What was your very first peda...</td>\n",
              "      <td>63</td>\n",
              "      <td>28</td>\n",
              "      <td>NaN</td>\n",
              "      <td>NaN</td>\n",
              "      <td>2014-09-11T09:55:56.000Z</td>\n",
              "      <td>NaN</td>\n",
              "      <td>NaN</td>\n",
              "      <td>Photo</td>\n",
              "      <td>NaN</td>\n",
              "      <td>https://www.instagram.com/signalchainmusic/</td>\n",
              "      <td>signalchainmusic</td>\n",
              "      <td>S I G N A L ?????? C H A I N</td>\n",
              "      <td>NaN</td>\n",
              "      <td>NaN</td>\n",
              "      <td>https://scontent-lga3-2.cdninstagram.com/v/t51...</td>\n",
              "      <td>8.070620e+17</td>\n",
              "      <td>2021-06-27T15:32:10.050Z</td>\n",
              "      <td>https://www.instagram.com/signalchainmusic/</td>\n",
              "      <td>NaN</td>\n",
              "      <td>NaN</td>\n",
              "      <td>NaN</td>\n",
              "      <td>NaN</td>\n",
              "      <td>NaN</td>\n",
              "      <td>NaN</td>\n",
              "      <td>NaN</td>\n",
              "      <td>NaN</td>\n",
              "      <td>NaN</td>\n",
              "      <td>NaN</td>\n",
              "      <td>NaN</td>\n",
              "      <td>NaN</td>\n",
              "      <td>NaN</td>\n",
              "      <td>NaN</td>\n",
              "      <td>NaN</td>\n",
              "      <td>NaN</td>\n",
              "      <td>NaN</td>\n",
              "      <td>NaN</td>\n",
              "      <td>NaN</td>\n",
              "      <td>NaN</td>\n",
              "      <td>NaN</td>\n",
              "      <td>NaN</td>\n",
              "      <td>NaN</td>\n",
              "      <td>NaN</td>\n",
              "      <td>NaN</td>\n",
              "      <td>NaN</td>\n",
              "      <td>NaN</td>\n",
              "      <td>NaN</td>\n",
              "      <td>NaN</td>\n",
              "      <td>NaN</td>\n",
              "      <td>NaN</td>\n",
              "      <td>NaN</td>\n",
              "      <td>NaN</td>\n",
              "    </tr>\n",
              "    <tr>\n",
              "      <th>4</th>\n",
              "      <td>https://www.instagram.com/p/BY9P2ruA1CL/</td>\n",
              "      <td>...come on daisy chainers, 'fess up... ???? \\n...</td>\n",
              "      <td>59</td>\n",
              "      <td>58</td>\n",
              "      <td>NaN</td>\n",
              "      <td>NaN</td>\n",
              "      <td>2017-09-12T22:01:55.000Z</td>\n",
              "      <td>NaN</td>\n",
              "      <td>NaN</td>\n",
              "      <td>Photo</td>\n",
              "      <td>NaN</td>\n",
              "      <td>https://www.instagram.com/signalchainmusic/</td>\n",
              "      <td>signalchainmusic</td>\n",
              "      <td>S I G N A L ?????? C H A I N</td>\n",
              "      <td>NaN</td>\n",
              "      <td>NaN</td>\n",
              "      <td>https://scontent-lga3-2.cdninstagram.com/v/t51...</td>\n",
              "      <td>1.602510e+18</td>\n",
              "      <td>2021-06-27T15:31:24.273Z</td>\n",
              "      <td>https://www.instagram.com/signalchainmusic/</td>\n",
              "      <td>NaN</td>\n",
              "      <td>NaN</td>\n",
              "      <td>NaN</td>\n",
              "      <td>NaN</td>\n",
              "      <td>NaN</td>\n",
              "      <td>NaN</td>\n",
              "      <td>NaN</td>\n",
              "      <td>NaN</td>\n",
              "      <td>NaN</td>\n",
              "      <td>NaN</td>\n",
              "      <td>NaN</td>\n",
              "      <td>NaN</td>\n",
              "      <td>NaN</td>\n",
              "      <td>NaN</td>\n",
              "      <td>NaN</td>\n",
              "      <td>NaN</td>\n",
              "      <td>NaN</td>\n",
              "      <td>NaN</td>\n",
              "      <td>NaN</td>\n",
              "      <td>NaN</td>\n",
              "      <td>NaN</td>\n",
              "      <td>NaN</td>\n",
              "      <td>NaN</td>\n",
              "      <td>NaN</td>\n",
              "      <td>NaN</td>\n",
              "      <td>NaN</td>\n",
              "      <td>NaN</td>\n",
              "      <td>NaN</td>\n",
              "      <td>NaN</td>\n",
              "      <td>NaN</td>\n",
              "      <td>NaN</td>\n",
              "      <td>NaN</td>\n",
              "      <td>NaN</td>\n",
              "    </tr>\n",
              "  </tbody>\n",
              "</table>\n",
              "</div>"
            ],
            "text/plain": [
              "                                    postUrl  ... taggedUsername16\n",
              "0  https://www.instagram.com/p/BYUBpTsgG7Q/  ...              NaN\n",
              "1  https://www.instagram.com/p/BYw8xAWgIgc/  ...              NaN\n",
              "2  https://www.instagram.com/p/BXhCVabgj2j/  ...              NaN\n",
              "3   https://www.instagram.com/p/szQvgyNpkF/  ...              NaN\n",
              "4  https://www.instagram.com/p/BY9P2ruA1CL/  ...              NaN\n",
              "\n",
              "[5 rows x 53 columns]"
            ]
          },
          "metadata": {
            "tags": []
          },
          "execution_count": 8
        }
      ]
    },
    {
      "cell_type": "markdown",
      "metadata": {
        "id": "b4-DTaXsMKtu"
      },
      "source": [
        "Extract Features from Timestamp to account for the effect to time on the no.of likes."
      ]
    },
    {
      "cell_type": "code",
      "metadata": {
        "id": "BzmrE786gwvv"
      },
      "source": [
        "def extract_datetime_features(df,col_name):\n",
        "  df=df[[col_name]]\n",
        "  df[col_name]=pd.to_datetime(df[col_name])\n",
        "  df['month']=df[col_name].apply(lambda x:x.month_name())\n",
        "  df['day']=df[col_name].apply(lambda x:x.day_name())\n",
        "  df['year']=df[col_name].apply(lambda x:x.year)\n",
        "  df['year_month']=df.year.apply(lambda x:str(x))+'_'+df.month.apply(lambda x:str(x))\n",
        "  df['hour']=df[col_name].apply(lambda x:x.hour)\n",
        "  df['file']=df.index+2\n",
        "  df.drop([col_name,'year','month'],axis=1,inplace=True)\n",
        "  df=pd.get_dummies(df,columns=['year_month','day','hour'],drop_first=False)\n",
        "  return df\n"
      ],
      "execution_count": 16,
      "outputs": []
    },
    {
      "cell_type": "code",
      "metadata": {
        "id": "ASuAteGgJmSm"
      },
      "source": [
        "date_features=extract_datetime_features(df=insta_data,col_name='pubDate')\n",
        "col_name='pubDate'"
      ],
      "execution_count": 17,
      "outputs": []
    },
    {
      "cell_type": "code",
      "metadata": {
        "id": "IrhWLBpLN3qN",
        "colab": {
          "base_uri": "https://localhost:8080/",
          "height": 253
        },
        "outputId": "1454ae66-1737-4382-9d60-e317a322185b"
      },
      "source": [
        "date_features.head()"
      ],
      "execution_count": 18,
      "outputs": [
        {
          "output_type": "execute_result",
          "data": {
            "text/html": [
              "<div>\n",
              "<style scoped>\n",
              "    .dataframe tbody tr th:only-of-type {\n",
              "        vertical-align: middle;\n",
              "    }\n",
              "\n",
              "    .dataframe tbody tr th {\n",
              "        vertical-align: top;\n",
              "    }\n",
              "\n",
              "    .dataframe thead th {\n",
              "        text-align: right;\n",
              "    }\n",
              "</style>\n",
              "<table border=\"1\" class=\"dataframe\">\n",
              "  <thead>\n",
              "    <tr style=\"text-align: right;\">\n",
              "      <th></th>\n",
              "      <th>file</th>\n",
              "      <th>year_month_2014_August</th>\n",
              "      <th>year_month_2014_December</th>\n",
              "      <th>year_month_2014_November</th>\n",
              "      <th>year_month_2014_October</th>\n",
              "      <th>year_month_2014_September</th>\n",
              "      <th>year_month_2015_April</th>\n",
              "      <th>year_month_2015_August</th>\n",
              "      <th>year_month_2015_December</th>\n",
              "      <th>year_month_2015_February</th>\n",
              "      <th>year_month_2015_January</th>\n",
              "      <th>year_month_2015_July</th>\n",
              "      <th>year_month_2015_June</th>\n",
              "      <th>year_month_2015_March</th>\n",
              "      <th>year_month_2015_May</th>\n",
              "      <th>year_month_2015_November</th>\n",
              "      <th>year_month_2015_October</th>\n",
              "      <th>year_month_2015_September</th>\n",
              "      <th>year_month_2016_April</th>\n",
              "      <th>year_month_2016_August</th>\n",
              "      <th>year_month_2016_December</th>\n",
              "      <th>year_month_2016_February</th>\n",
              "      <th>year_month_2016_January</th>\n",
              "      <th>year_month_2016_July</th>\n",
              "      <th>year_month_2016_June</th>\n",
              "      <th>year_month_2016_March</th>\n",
              "      <th>year_month_2016_May</th>\n",
              "      <th>year_month_2016_November</th>\n",
              "      <th>year_month_2016_October</th>\n",
              "      <th>year_month_2016_September</th>\n",
              "      <th>year_month_2017_April</th>\n",
              "      <th>year_month_2017_August</th>\n",
              "      <th>year_month_2017_December</th>\n",
              "      <th>year_month_2017_February</th>\n",
              "      <th>year_month_2017_January</th>\n",
              "      <th>year_month_2017_July</th>\n",
              "      <th>year_month_2017_June</th>\n",
              "      <th>year_month_2017_March</th>\n",
              "      <th>year_month_2017_May</th>\n",
              "      <th>year_month_2017_November</th>\n",
              "      <th>...</th>\n",
              "      <th>year_month_2020_November</th>\n",
              "      <th>year_month_2020_October</th>\n",
              "      <th>year_month_2020_September</th>\n",
              "      <th>year_month_2021_April</th>\n",
              "      <th>year_month_2021_February</th>\n",
              "      <th>year_month_2021_January</th>\n",
              "      <th>year_month_2021_June</th>\n",
              "      <th>year_month_2021_March</th>\n",
              "      <th>year_month_2021_May</th>\n",
              "      <th>day_Friday</th>\n",
              "      <th>day_Monday</th>\n",
              "      <th>day_Saturday</th>\n",
              "      <th>day_Sunday</th>\n",
              "      <th>day_Thursday</th>\n",
              "      <th>day_Tuesday</th>\n",
              "      <th>day_Wednesday</th>\n",
              "      <th>hour_0</th>\n",
              "      <th>hour_1</th>\n",
              "      <th>hour_2</th>\n",
              "      <th>hour_3</th>\n",
              "      <th>hour_4</th>\n",
              "      <th>hour_5</th>\n",
              "      <th>hour_6</th>\n",
              "      <th>hour_7</th>\n",
              "      <th>hour_8</th>\n",
              "      <th>hour_9</th>\n",
              "      <th>hour_10</th>\n",
              "      <th>hour_11</th>\n",
              "      <th>hour_12</th>\n",
              "      <th>hour_13</th>\n",
              "      <th>hour_14</th>\n",
              "      <th>hour_15</th>\n",
              "      <th>hour_16</th>\n",
              "      <th>hour_17</th>\n",
              "      <th>hour_18</th>\n",
              "      <th>hour_19</th>\n",
              "      <th>hour_20</th>\n",
              "      <th>hour_21</th>\n",
              "      <th>hour_22</th>\n",
              "      <th>hour_23</th>\n",
              "    </tr>\n",
              "  </thead>\n",
              "  <tbody>\n",
              "    <tr>\n",
              "      <th>0</th>\n",
              "      <td>2</td>\n",
              "      <td>0</td>\n",
              "      <td>0</td>\n",
              "      <td>0</td>\n",
              "      <td>0</td>\n",
              "      <td>0</td>\n",
              "      <td>0</td>\n",
              "      <td>0</td>\n",
              "      <td>0</td>\n",
              "      <td>0</td>\n",
              "      <td>0</td>\n",
              "      <td>0</td>\n",
              "      <td>0</td>\n",
              "      <td>0</td>\n",
              "      <td>0</td>\n",
              "      <td>0</td>\n",
              "      <td>0</td>\n",
              "      <td>0</td>\n",
              "      <td>0</td>\n",
              "      <td>0</td>\n",
              "      <td>0</td>\n",
              "      <td>0</td>\n",
              "      <td>0</td>\n",
              "      <td>0</td>\n",
              "      <td>0</td>\n",
              "      <td>0</td>\n",
              "      <td>0</td>\n",
              "      <td>0</td>\n",
              "      <td>0</td>\n",
              "      <td>0</td>\n",
              "      <td>0</td>\n",
              "      <td>1</td>\n",
              "      <td>0</td>\n",
              "      <td>0</td>\n",
              "      <td>0</td>\n",
              "      <td>0</td>\n",
              "      <td>0</td>\n",
              "      <td>0</td>\n",
              "      <td>0</td>\n",
              "      <td>0</td>\n",
              "      <td>...</td>\n",
              "      <td>0</td>\n",
              "      <td>0</td>\n",
              "      <td>0</td>\n",
              "      <td>0</td>\n",
              "      <td>0</td>\n",
              "      <td>0</td>\n",
              "      <td>0</td>\n",
              "      <td>0</td>\n",
              "      <td>0</td>\n",
              "      <td>0</td>\n",
              "      <td>0</td>\n",
              "      <td>0</td>\n",
              "      <td>1</td>\n",
              "      <td>0</td>\n",
              "      <td>0</td>\n",
              "      <td>0</td>\n",
              "      <td>0</td>\n",
              "      <td>0</td>\n",
              "      <td>0</td>\n",
              "      <td>0</td>\n",
              "      <td>0</td>\n",
              "      <td>0</td>\n",
              "      <td>0</td>\n",
              "      <td>0</td>\n",
              "      <td>0</td>\n",
              "      <td>0</td>\n",
              "      <td>0</td>\n",
              "      <td>0</td>\n",
              "      <td>0</td>\n",
              "      <td>0</td>\n",
              "      <td>0</td>\n",
              "      <td>0</td>\n",
              "      <td>0</td>\n",
              "      <td>0</td>\n",
              "      <td>0</td>\n",
              "      <td>0</td>\n",
              "      <td>0</td>\n",
              "      <td>1</td>\n",
              "      <td>0</td>\n",
              "      <td>0</td>\n",
              "    </tr>\n",
              "    <tr>\n",
              "      <th>1</th>\n",
              "      <td>3</td>\n",
              "      <td>0</td>\n",
              "      <td>0</td>\n",
              "      <td>0</td>\n",
              "      <td>0</td>\n",
              "      <td>0</td>\n",
              "      <td>0</td>\n",
              "      <td>0</td>\n",
              "      <td>0</td>\n",
              "      <td>0</td>\n",
              "      <td>0</td>\n",
              "      <td>0</td>\n",
              "      <td>0</td>\n",
              "      <td>0</td>\n",
              "      <td>0</td>\n",
              "      <td>0</td>\n",
              "      <td>0</td>\n",
              "      <td>0</td>\n",
              "      <td>0</td>\n",
              "      <td>0</td>\n",
              "      <td>0</td>\n",
              "      <td>0</td>\n",
              "      <td>0</td>\n",
              "      <td>0</td>\n",
              "      <td>0</td>\n",
              "      <td>0</td>\n",
              "      <td>0</td>\n",
              "      <td>0</td>\n",
              "      <td>0</td>\n",
              "      <td>0</td>\n",
              "      <td>0</td>\n",
              "      <td>0</td>\n",
              "      <td>0</td>\n",
              "      <td>0</td>\n",
              "      <td>0</td>\n",
              "      <td>0</td>\n",
              "      <td>0</td>\n",
              "      <td>0</td>\n",
              "      <td>0</td>\n",
              "      <td>0</td>\n",
              "      <td>...</td>\n",
              "      <td>0</td>\n",
              "      <td>0</td>\n",
              "      <td>0</td>\n",
              "      <td>0</td>\n",
              "      <td>0</td>\n",
              "      <td>0</td>\n",
              "      <td>0</td>\n",
              "      <td>0</td>\n",
              "      <td>0</td>\n",
              "      <td>1</td>\n",
              "      <td>0</td>\n",
              "      <td>0</td>\n",
              "      <td>0</td>\n",
              "      <td>0</td>\n",
              "      <td>0</td>\n",
              "      <td>0</td>\n",
              "      <td>0</td>\n",
              "      <td>0</td>\n",
              "      <td>0</td>\n",
              "      <td>1</td>\n",
              "      <td>0</td>\n",
              "      <td>0</td>\n",
              "      <td>0</td>\n",
              "      <td>0</td>\n",
              "      <td>0</td>\n",
              "      <td>0</td>\n",
              "      <td>0</td>\n",
              "      <td>0</td>\n",
              "      <td>0</td>\n",
              "      <td>0</td>\n",
              "      <td>0</td>\n",
              "      <td>0</td>\n",
              "      <td>0</td>\n",
              "      <td>0</td>\n",
              "      <td>0</td>\n",
              "      <td>0</td>\n",
              "      <td>0</td>\n",
              "      <td>0</td>\n",
              "      <td>0</td>\n",
              "      <td>0</td>\n",
              "    </tr>\n",
              "    <tr>\n",
              "      <th>2</th>\n",
              "      <td>4</td>\n",
              "      <td>0</td>\n",
              "      <td>0</td>\n",
              "      <td>0</td>\n",
              "      <td>0</td>\n",
              "      <td>0</td>\n",
              "      <td>0</td>\n",
              "      <td>0</td>\n",
              "      <td>0</td>\n",
              "      <td>0</td>\n",
              "      <td>0</td>\n",
              "      <td>0</td>\n",
              "      <td>0</td>\n",
              "      <td>0</td>\n",
              "      <td>0</td>\n",
              "      <td>0</td>\n",
              "      <td>0</td>\n",
              "      <td>0</td>\n",
              "      <td>0</td>\n",
              "      <td>0</td>\n",
              "      <td>0</td>\n",
              "      <td>0</td>\n",
              "      <td>0</td>\n",
              "      <td>0</td>\n",
              "      <td>0</td>\n",
              "      <td>0</td>\n",
              "      <td>0</td>\n",
              "      <td>0</td>\n",
              "      <td>0</td>\n",
              "      <td>0</td>\n",
              "      <td>0</td>\n",
              "      <td>1</td>\n",
              "      <td>0</td>\n",
              "      <td>0</td>\n",
              "      <td>0</td>\n",
              "      <td>0</td>\n",
              "      <td>0</td>\n",
              "      <td>0</td>\n",
              "      <td>0</td>\n",
              "      <td>0</td>\n",
              "      <td>...</td>\n",
              "      <td>0</td>\n",
              "      <td>0</td>\n",
              "      <td>0</td>\n",
              "      <td>0</td>\n",
              "      <td>0</td>\n",
              "      <td>0</td>\n",
              "      <td>0</td>\n",
              "      <td>0</td>\n",
              "      <td>0</td>\n",
              "      <td>0</td>\n",
              "      <td>0</td>\n",
              "      <td>0</td>\n",
              "      <td>0</td>\n",
              "      <td>0</td>\n",
              "      <td>1</td>\n",
              "      <td>0</td>\n",
              "      <td>0</td>\n",
              "      <td>0</td>\n",
              "      <td>1</td>\n",
              "      <td>0</td>\n",
              "      <td>0</td>\n",
              "      <td>0</td>\n",
              "      <td>0</td>\n",
              "      <td>0</td>\n",
              "      <td>0</td>\n",
              "      <td>0</td>\n",
              "      <td>0</td>\n",
              "      <td>0</td>\n",
              "      <td>0</td>\n",
              "      <td>0</td>\n",
              "      <td>0</td>\n",
              "      <td>0</td>\n",
              "      <td>0</td>\n",
              "      <td>0</td>\n",
              "      <td>0</td>\n",
              "      <td>0</td>\n",
              "      <td>0</td>\n",
              "      <td>0</td>\n",
              "      <td>0</td>\n",
              "      <td>0</td>\n",
              "    </tr>\n",
              "    <tr>\n",
              "      <th>3</th>\n",
              "      <td>5</td>\n",
              "      <td>0</td>\n",
              "      <td>0</td>\n",
              "      <td>0</td>\n",
              "      <td>0</td>\n",
              "      <td>1</td>\n",
              "      <td>0</td>\n",
              "      <td>0</td>\n",
              "      <td>0</td>\n",
              "      <td>0</td>\n",
              "      <td>0</td>\n",
              "      <td>0</td>\n",
              "      <td>0</td>\n",
              "      <td>0</td>\n",
              "      <td>0</td>\n",
              "      <td>0</td>\n",
              "      <td>0</td>\n",
              "      <td>0</td>\n",
              "      <td>0</td>\n",
              "      <td>0</td>\n",
              "      <td>0</td>\n",
              "      <td>0</td>\n",
              "      <td>0</td>\n",
              "      <td>0</td>\n",
              "      <td>0</td>\n",
              "      <td>0</td>\n",
              "      <td>0</td>\n",
              "      <td>0</td>\n",
              "      <td>0</td>\n",
              "      <td>0</td>\n",
              "      <td>0</td>\n",
              "      <td>0</td>\n",
              "      <td>0</td>\n",
              "      <td>0</td>\n",
              "      <td>0</td>\n",
              "      <td>0</td>\n",
              "      <td>0</td>\n",
              "      <td>0</td>\n",
              "      <td>0</td>\n",
              "      <td>0</td>\n",
              "      <td>...</td>\n",
              "      <td>0</td>\n",
              "      <td>0</td>\n",
              "      <td>0</td>\n",
              "      <td>0</td>\n",
              "      <td>0</td>\n",
              "      <td>0</td>\n",
              "      <td>0</td>\n",
              "      <td>0</td>\n",
              "      <td>0</td>\n",
              "      <td>0</td>\n",
              "      <td>0</td>\n",
              "      <td>0</td>\n",
              "      <td>0</td>\n",
              "      <td>1</td>\n",
              "      <td>0</td>\n",
              "      <td>0</td>\n",
              "      <td>0</td>\n",
              "      <td>0</td>\n",
              "      <td>0</td>\n",
              "      <td>0</td>\n",
              "      <td>0</td>\n",
              "      <td>0</td>\n",
              "      <td>0</td>\n",
              "      <td>0</td>\n",
              "      <td>0</td>\n",
              "      <td>1</td>\n",
              "      <td>0</td>\n",
              "      <td>0</td>\n",
              "      <td>0</td>\n",
              "      <td>0</td>\n",
              "      <td>0</td>\n",
              "      <td>0</td>\n",
              "      <td>0</td>\n",
              "      <td>0</td>\n",
              "      <td>0</td>\n",
              "      <td>0</td>\n",
              "      <td>0</td>\n",
              "      <td>0</td>\n",
              "      <td>0</td>\n",
              "      <td>0</td>\n",
              "    </tr>\n",
              "    <tr>\n",
              "      <th>4</th>\n",
              "      <td>6</td>\n",
              "      <td>0</td>\n",
              "      <td>0</td>\n",
              "      <td>0</td>\n",
              "      <td>0</td>\n",
              "      <td>0</td>\n",
              "      <td>0</td>\n",
              "      <td>0</td>\n",
              "      <td>0</td>\n",
              "      <td>0</td>\n",
              "      <td>0</td>\n",
              "      <td>0</td>\n",
              "      <td>0</td>\n",
              "      <td>0</td>\n",
              "      <td>0</td>\n",
              "      <td>0</td>\n",
              "      <td>0</td>\n",
              "      <td>0</td>\n",
              "      <td>0</td>\n",
              "      <td>0</td>\n",
              "      <td>0</td>\n",
              "      <td>0</td>\n",
              "      <td>0</td>\n",
              "      <td>0</td>\n",
              "      <td>0</td>\n",
              "      <td>0</td>\n",
              "      <td>0</td>\n",
              "      <td>0</td>\n",
              "      <td>0</td>\n",
              "      <td>0</td>\n",
              "      <td>0</td>\n",
              "      <td>0</td>\n",
              "      <td>0</td>\n",
              "      <td>0</td>\n",
              "      <td>0</td>\n",
              "      <td>0</td>\n",
              "      <td>0</td>\n",
              "      <td>0</td>\n",
              "      <td>0</td>\n",
              "      <td>0</td>\n",
              "      <td>...</td>\n",
              "      <td>0</td>\n",
              "      <td>0</td>\n",
              "      <td>0</td>\n",
              "      <td>0</td>\n",
              "      <td>0</td>\n",
              "      <td>0</td>\n",
              "      <td>0</td>\n",
              "      <td>0</td>\n",
              "      <td>0</td>\n",
              "      <td>0</td>\n",
              "      <td>0</td>\n",
              "      <td>0</td>\n",
              "      <td>0</td>\n",
              "      <td>0</td>\n",
              "      <td>1</td>\n",
              "      <td>0</td>\n",
              "      <td>0</td>\n",
              "      <td>0</td>\n",
              "      <td>0</td>\n",
              "      <td>0</td>\n",
              "      <td>0</td>\n",
              "      <td>0</td>\n",
              "      <td>0</td>\n",
              "      <td>0</td>\n",
              "      <td>0</td>\n",
              "      <td>0</td>\n",
              "      <td>0</td>\n",
              "      <td>0</td>\n",
              "      <td>0</td>\n",
              "      <td>0</td>\n",
              "      <td>0</td>\n",
              "      <td>0</td>\n",
              "      <td>0</td>\n",
              "      <td>0</td>\n",
              "      <td>0</td>\n",
              "      <td>0</td>\n",
              "      <td>0</td>\n",
              "      <td>0</td>\n",
              "      <td>1</td>\n",
              "      <td>0</td>\n",
              "    </tr>\n",
              "  </tbody>\n",
              "</table>\n",
              "<p>5 rows × 115 columns</p>\n",
              "</div>"
            ],
            "text/plain": [
              "   file  year_month_2014_August  ...  hour_22  hour_23\n",
              "0     2                       0  ...        0        0\n",
              "1     3                       0  ...        0        0\n",
              "2     4                       0  ...        0        0\n",
              "3     5                       0  ...        0        0\n",
              "4     6                       0  ...        1        0\n",
              "\n",
              "[5 rows x 115 columns]"
            ]
          },
          "metadata": {
            "tags": []
          },
          "execution_count": 18
        }
      ]
    },
    {
      "cell_type": "code",
      "metadata": {
        "id": "iKP11sD0r7Vw"
      },
      "source": [
        "insta_data['pubDate']=pd.to_datetime(insta_data['pubDate'])\n",
        "insta_data['month']=insta_data[col_name].apply(lambda x:x.month_name())\n",
        "insta_data['day']=insta_data[col_name].apply(lambda x:x.day_name())\n",
        "insta_data['year']=insta_data[col_name].apply(lambda x:x.year)\n",
        "insta_data['year_month']=insta_data.year.apply(lambda x:str(x))+'_'+insta_data.month.apply(lambda x:str(x))\n",
        "insta_data['hour']=insta_data[col_name].apply(lambda x:x.hour)"
      ],
      "execution_count": 19,
      "outputs": []
    },
    {
      "cell_type": "code",
      "metadata": {
        "id": "ig69ZP8asHOH",
        "colab": {
          "base_uri": "https://localhost:8080/"
        },
        "outputId": "8a303716-82bc-4d9e-c902-c16d576da02b"
      },
      "source": [
        "insta_data.groupby('year_month').likeCount.mean().sort_values()"
      ],
      "execution_count": 20,
      "outputs": [
        {
          "output_type": "execute_result",
          "data": {
            "text/plain": [
              "year_month\n",
              "2014_August        38.080000\n",
              "2014_September     47.157143\n",
              "2019_December      57.540000\n",
              "2020_June          60.741379\n",
              "2019_November      64.000000\n",
              "                     ...    \n",
              "2018_October      210.083333\n",
              "2018_August       212.200000\n",
              "2019_May          217.000000\n",
              "2019_March        233.375000\n",
              "2019_April        352.578947\n",
              "Name: likeCount, Length: 83, dtype: float64"
            ]
          },
          "metadata": {
            "tags": []
          },
          "execution_count": 20
        }
      ]
    },
    {
      "cell_type": "code",
      "metadata": {
        "id": "yghOrE3dss9e",
        "colab": {
          "base_uri": "https://localhost:8080/"
        },
        "outputId": "8291f9d9-4fc0-4d62-ccd1-9bec9d8f6f3f"
      },
      "source": [
        "insta_data.groupby('day').likeCount.mean().sort_values()"
      ],
      "execution_count": 21,
      "outputs": [
        {
          "output_type": "execute_result",
          "data": {
            "text/plain": [
              "day\n",
              "Friday        98.063457\n",
              "Thursday     110.035124\n",
              "Wednesday    111.618661\n",
              "Tuesday      111.889925\n",
              "Monday       128.955128\n",
              "Saturday     130.755682\n",
              "Sunday       146.450758\n",
              "Name: likeCount, dtype: float64"
            ]
          },
          "metadata": {
            "tags": []
          },
          "execution_count": 21
        }
      ]
    },
    {
      "cell_type": "code",
      "metadata": {
        "id": "g3asH4Dss0JW",
        "colab": {
          "base_uri": "https://localhost:8080/"
        },
        "outputId": "88af2776-d365-404a-99f2-9166c7f57318"
      },
      "source": [
        "insta_data.groupby('hour').likeCount.mean().sort_values()"
      ],
      "execution_count": 22,
      "outputs": [
        {
          "output_type": "execute_result",
          "data": {
            "text/plain": [
              "hour\n",
              "19     81.600000\n",
              "17     88.500000\n",
              "18     92.333333\n",
              "16     98.000000\n",
              "13    103.272727\n",
              "14    103.666667\n",
              "3     106.861111\n",
              "0     110.893048\n",
              "22    111.331731\n",
              "10    112.976744\n",
              "20    113.175258\n",
              "23    113.529412\n",
              "1     113.649038\n",
              "2     114.356877\n",
              "21    115.353293\n",
              "4     117.870229\n",
              "12    118.721311\n",
              "9     118.873874\n",
              "6     120.015228\n",
              "5     121.000000\n",
              "11    126.785714\n",
              "7     131.645161\n",
              "8     134.172932\n",
              "15    144.400000\n",
              "Name: likeCount, dtype: float64"
            ]
          },
          "metadata": {
            "tags": []
          },
          "execution_count": 22
        }
      ]
    },
    {
      "cell_type": "code",
      "metadata": {
        "id": "8hdlRWNaKcvM"
      },
      "source": [
        "reg_data=merged_data.copy()\n",
        "reg_data=reg_data.merge(right=date_features)"
      ],
      "execution_count": 23,
      "outputs": []
    },
    {
      "cell_type": "markdown",
      "metadata": {
        "id": "TqXLAWCjDNKp"
      },
      "source": [
        "Setting References and dropping linearly dependent variables"
      ]
    },
    {
      "cell_type": "markdown",
      "metadata": {
        "id": "tBFHh3t5JNBm"
      },
      "source": [
        "Please note that these columns we are dropping are only based on this data. We will have to change the column names for a different set of data points. Other than the 'file' column we will have to change all the column names depending on the data.\n"
      ]
    },
    {
      "cell_type": "code",
      "metadata": {
        "id": "7-8L18Qpy5hu"
      },
      "source": [
        "reg_data.drop(['file','sorrow_faces',\n",
        "               'pubDate'],axis=1,inplace=True)"
      ],
      "execution_count": 24,
      "outputs": []
    },
    {
      "cell_type": "markdown",
      "metadata": {
        "id": "d6PhIWiKAyM-"
      },
      "source": [
        "Let us look at the distribution of the target Variable."
      ]
    },
    {
      "cell_type": "code",
      "metadata": {
        "id": "_rYZsaV3Ap_W",
        "colab": {
          "base_uri": "https://localhost:8080/",
          "height": 302
        },
        "outputId": "24184b54-1979-4d77-ba2d-c4044142981c"
      },
      "source": [
        "sns.boxplot(reg_data['likeCount'])"
      ],
      "execution_count": 25,
      "outputs": [
        {
          "output_type": "execute_result",
          "data": {
            "text/plain": [
              "<matplotlib.axes._subplots.AxesSubplot at 0x7f8bdd738c10>"
            ]
          },
          "metadata": {
            "tags": []
          },
          "execution_count": 25
        },
        {
          "output_type": "display_data",
          "data": {
            "image/png": "[encoded data removed]",
            "text/plain": [
              "<Figure size 432x288 with 1 Axes>"
            ]
          },
          "metadata": {
            "tags": [],
            "needs_background": "light"
          }
        }
      ]
    },
    {
      "cell_type": "markdown",
      "metadata": {
        "id": "71fhSD8g_QNk"
      },
      "source": [
        "Approach 1: Let us drop the outliers and build a regression model"
      ]
    },
    {
      "cell_type": "code",
      "metadata": {
        "id": "s1k2E2sPK65E"
      },
      "source": [
        "reg_data_subset=reg_data[reg_data.likeCount<=3000]"
      ],
      "execution_count": 26,
      "outputs": []
    },
    {
      "cell_type": "code",
      "metadata": {
        "id": "pFtpWAlr_PoP"
      },
      "source": [
        "Y=reg_data_subset['likeCount']\n",
        "X=reg_data_subset.drop(['likeCount'],axis=1).astype(float)\n",
        "\n",
        "X=sm.add_constant(X)\n",
        "model=sm.OLS(Y,X)\n",
        "results=model.fit()"
      ],
      "execution_count": 27,
      "outputs": []
    },
    {
      "cell_type": "code",
      "metadata": {
        "id": "Z-_SGVggENhB"
      },
      "source": [
        "vif = variance_inflation_factor(X)\n",
        "vif_store=vif.drop('const',axis=0)"
      ],
      "execution_count": 28,
      "outputs": []
    },
    {
      "cell_type": "code",
      "metadata": {
        "id": "0NNf608ScUJb"
      },
      "source": [
        ""
      ],
      "execution_count": null,
      "outputs": []
    },
    {
      "cell_type": "code",
      "metadata": {
        "id": "_MmTo22XEOOh",
        "colab": {
          "base_uri": "https://localhost:8080/",
          "height": 419
        },
        "outputId": "99ce99d1-df6b-4e8a-d302-3dd203afee76"
      },
      "source": [
        "vif_store.sort_values(by='vif',ascending=False)"
      ],
      "execution_count": 29,
      "outputs": [
        {
          "output_type": "execute_result",
          "data": {
            "text/html": [
              "<div>\n",
              "<style scoped>\n",
              "    .dataframe tbody tr th:only-of-type {\n",
              "        vertical-align: middle;\n",
              "    }\n",
              "\n",
              "    .dataframe tbody tr th {\n",
              "        vertical-align: top;\n",
              "    }\n",
              "\n",
              "    .dataframe thead th {\n",
              "        text-align: right;\n",
              "    }\n",
              "</style>\n",
              "<table border=\"1\" class=\"dataframe\">\n",
              "  <thead>\n",
              "    <tr style=\"text-align: right;\">\n",
              "      <th></th>\n",
              "      <th>vif</th>\n",
              "    </tr>\n",
              "  </thead>\n",
              "  <tbody>\n",
              "    <tr>\n",
              "      <th>hour_23</th>\n",
              "      <td>inf</td>\n",
              "    </tr>\n",
              "    <tr>\n",
              "      <th>day_Wednesday</th>\n",
              "      <td>inf</td>\n",
              "    </tr>\n",
              "    <tr>\n",
              "      <th>year_month_2014_September</th>\n",
              "      <td>2.533991e+09</td>\n",
              "    </tr>\n",
              "    <tr>\n",
              "      <th>year_month_2015_July</th>\n",
              "      <td>2.166932e+09</td>\n",
              "    </tr>\n",
              "    <tr>\n",
              "      <th>year_month_2014_November</th>\n",
              "      <td>1.894563e+09</td>\n",
              "    </tr>\n",
              "    <tr>\n",
              "      <th>...</th>\n",
              "      <td>...</td>\n",
              "    </tr>\n",
              "    <tr>\n",
              "      <th>hour_19</th>\n",
              "      <td>1.106296e+00</td>\n",
              "    </tr>\n",
              "    <tr>\n",
              "      <th>hour_15</th>\n",
              "      <td>1.100628e+00</td>\n",
              "    </tr>\n",
              "    <tr>\n",
              "      <th>hour_18</th>\n",
              "      <td>1.085128e+00</td>\n",
              "    </tr>\n",
              "    <tr>\n",
              "      <th>hour_16</th>\n",
              "      <td>1.057579e+00</td>\n",
              "    </tr>\n",
              "    <tr>\n",
              "      <th>repost</th>\n",
              "      <td>1.055456e+00</td>\n",
              "    </tr>\n",
              "  </tbody>\n",
              "</table>\n",
              "<p>127 rows × 1 columns</p>\n",
              "</div>"
            ],
            "text/plain": [
              "                                    vif\n",
              "hour_23                             inf\n",
              "day_Wednesday                       inf\n",
              "year_month_2014_September  2.533991e+09\n",
              "year_month_2015_July       2.166932e+09\n",
              "year_month_2014_November   1.894563e+09\n",
              "...                                 ...\n",
              "hour_19                    1.106296e+00\n",
              "hour_15                    1.100628e+00\n",
              "hour_18                    1.085128e+00\n",
              "hour_16                    1.057579e+00\n",
              "repost                     1.055456e+00\n",
              "\n",
              "[127 rows x 1 columns]"
            ]
          },
          "metadata": {
            "tags": []
          },
          "execution_count": 29
        }
      ]
    },
    {
      "cell_type": "code",
      "metadata": {
        "id": "gWGvTntqEf9l"
      },
      "source": [
        "vif_store.sort_values('vif',ascending=False)\n",
        "df_coeffs = pd.DataFrame({\"Coefficients\": results.params, \"p\": results.pvalues, \"vif\": vif[\"vif\"]})\n",
        "if 'const' in df_coeffs.index:\n",
        "    df_coeffs = df_coeffs.drop(\"const\", axis=0)\n",
        "df_coeffs_sorted = df_coeffs.reindex(df_coeffs[\"p\"].sort_values(ascending=True).index)\n"
      ],
      "execution_count": 30,
      "outputs": []
    },
    {
      "cell_type": "code",
      "metadata": {
        "id": "2-bjC-jiEonT",
        "colab": {
          "base_uri": "https://localhost:8080/"
        },
        "outputId": "d33c73cc-6bda-409f-e6a3-3edaf091a3ba"
      },
      "source": [
        "print(f'There are about {Counter(df_coeffs.p<=0.05)[True]} significant variables')\n",
        "print(f'There are about {Counter(df_coeffs.vif>=5)[True]} variables with variance inflation factor of more than 5')"
      ],
      "execution_count": 31,
      "outputs": [
        {
          "output_type": "stream",
          "text": [
            "There are about 49 significant variables\n",
            "There are about 85 variables with variance inflation factor of more than 5\n"
          ],
          "name": "stdout"
        }
      ]
    },
    {
      "cell_type": "code",
      "metadata": {
        "id": "C1feWvytJ8Ee",
        "colab": {
          "base_uri": "https://localhost:8080/"
        },
        "outputId": "c663cb4a-88b2-4b69-9a5c-d38bb74681e4"
      },
      "source": [
        "print(df_coeffs_sorted[df_coeffs_sorted.p<=0.05])"
      ],
      "execution_count": 33,
      "outputs": [
        {
          "output_type": "stream",
          "text": [
            "                           Coefficients             p           vif\n",
            "year_month_2014_September    -74.221060  1.333984e-15  2.533991e+09\n",
            "year_month_2019_April        214.828064  1.545477e-15  2.482898e+08\n",
            "YesFinalInstrument            30.965598  1.008558e-12  1.161547e+00\n",
            "year_month_2020_June         -74.194071  3.104112e-09  1.300911e+09\n",
            "year_month_2019_March        111.933649  1.497531e-08  5.041871e+08\n",
            "year_month_2020_January      -67.762219  6.678076e-08  1.271885e+09\n",
            "year_month_2020_February     -76.884912  9.633790e-08  9.644934e+08\n",
            "year_month_2020_July         -58.965367  3.980320e-07  1.545427e+09\n",
            "year_month_2019_June          75.782490  5.132364e-07  8.798864e+08\n",
            "year_month_2014_August       -77.512995  8.515260e-07  7.982099e+08\n",
            "year_month_2020_May          -62.846584  1.069380e-06  1.228858e+09\n",
            "year_month_2020_March        -64.940301  1.922777e-06  1.073042e+09\n",
            "desc_len                       0.031004  5.008595e-06  1.418014e+00\n",
            "year_month_2019_November     -60.744362  7.312321e-06  1.081927e+09\n",
            "year_month_2020_December     -58.247543  5.413687e-05  9.731883e+08\n",
            "year_month_2019_December     -66.244182  5.415645e-05  7.161746e+08\n",
            "year_month_2018_August        91.751802  2.567009e-04  2.829311e+08\n",
            "Brightness_Picture            -0.190673  3.259185e-04  2.616937e+00\n",
            "year_month_2014_November     -37.469390  3.647778e-04  1.894563e+09\n",
            "year_month_2014_October      -41.389606  4.692426e-04  1.486563e+09\n",
            "year_month_2019_May           69.276414  4.915147e-04  4.848765e+08\n",
            "year_month_2021_March        -63.565374  5.607980e-04  5.689608e+08\n",
            "year_month_2015_August        46.805906  5.803484e-04  1.082217e+09\n",
            "year_month_2017_September     56.411010  7.854993e-04  6.822879e+08\n",
            "yesPerson                    -18.233294  8.394473e-04  1.374314e+00\n",
            "year_month_2021_February     -57.483759  9.584329e-04  6.447475e+08\n",
            "year_month_2020_August       -46.944373  1.041535e-03  9.977576e+08\n",
            "day_Sunday                    21.207138  1.304592e-03  1.576321e+00\n",
            "day_Saturday                  20.892456  1.352419e-03  1.695398e+00\n",
            "year_month_2020_October      -37.417947  1.904402e-03  1.394490e+09\n",
            "year_month_2019_September    -49.894106  2.317805e-03  7.294056e+08\n",
            "year_month_2020_September    -38.189250  3.283274e-03  1.206148e+09\n",
            "year_month_2018_January       65.041545  3.801630e-03  3.646620e+08\n",
            "year_month_2018_June          70.470452  5.137230e-03  2.965840e+08\n",
            "year_month_2021_May          -52.933345  5.480610e-03  5.354432e+08\n",
            "year_month_2018_December      46.557725  5.628537e-03  6.942997e+08\n",
            "year_month_2020_April        -32.473387  5.765935e-03  1.478672e+09\n",
            "year_month_2021_June         -46.149986  7.717276e-03  6.455005e+08\n",
            "year_month_2020_November     -37.769959  7.855925e-03  9.943491e+08\n",
            "year_month_2021_January      -41.479825  1.133124e-02  7.350784e+08\n",
            "year_month_2016_October       30.980137  1.835395e-02  1.155738e+09\n",
            "day_Friday                   -13.655739  1.892700e-02  1.805477e+00\n",
            "year_month_2018_October       50.747232  2.384242e-02  3.630082e+08\n",
            "Clarity_Picture               85.954557  2.742345e-02  1.203647e+00\n",
            "year_month_2018_September     54.870254  2.936760e-02  2.815841e+08\n",
            "year_month_2019_July          30.150753  3.396863e-02  9.886716e+08\n",
            "year_month_2019_October      -26.833967  4.078096e-02  1.163848e+09\n",
            "year_month_2017_December      53.566918  4.273020e-02  2.881178e+08\n",
            "hour_8                        15.980522  4.872463e-02  2.092270e+00\n"
          ],
          "name": "stdout"
        }
      ]
    },
    {
      "cell_type": "markdown",
      "metadata": {
        "id": "S-ERDsprJky4"
      },
      "source": [
        "Let us drop these variables with high VIF and see how it affects the model"
      ]
    },
    {
      "cell_type": "code",
      "metadata": {
        "id": "unVEiwunILqd"
      },
      "source": [
        "df_vif = X.loc[:, vif[\"vif\"] <= 5]\n",
        "X = sm.add_constant(df_vif.astype(float)) \n",
        "model = sm.OLS(Y, X)\n",
        "results = model.fit()"
      ],
      "execution_count": 34,
      "outputs": []
    },
    {
      "cell_type": "code",
      "metadata": {
        "id": "8hUdU7qmIQ2x"
      },
      "source": [
        "vif = variance_inflation_factor(X)\n",
        "vif_store=vif.drop('const',axis=0)\n",
        "vif_store.sort_values('vif',ascending=False)\n",
        "df_coeffs = pd.DataFrame({\"Coefficients\": results.params, \"p\": results.pvalues, \"vif\": vif[\"vif\"]})\n",
        "if 'const' in df_coeffs.index:\n",
        "    df_coeffs = df_coeffs.drop(\"const\", axis=0)\n",
        "df_coeffs_sorted = df_coeffs.reindex(df_coeffs[\"p\"].sort_values(ascending=True).index)\n"
      ],
      "execution_count": 35,
      "outputs": []
    },
    {
      "cell_type": "code",
      "metadata": {
        "id": "rLwUIw-7IV6U",
        "colab": {
          "base_uri": "https://localhost:8080/"
        },
        "outputId": "35aee818-7e9e-493d-dfcd-d154679ae57c"
      },
      "source": [
        "print(f'There are about {Counter(df_coeffs.p<=0.05)[True]} significant variables')\n",
        "print(f'There are about {Counter(df_coeffs.vif>=5)[True]} variables with variance inflation factor of more than 5')"
      ],
      "execution_count": 36,
      "outputs": [
        {
          "output_type": "stream",
          "text": [
            "There are about 7 significant variables\n",
            "There are about 0 variables with variance inflation factor of more than 5\n"
          ],
          "name": "stdout"
        }
      ]
    },
    {
      "cell_type": "code",
      "metadata": {
        "id": "6fFCF9w5KF4r",
        "colab": {
          "base_uri": "https://localhost:8080/"
        },
        "outputId": "7772a00a-3222-45ca-b521-8237833f18a0"
      },
      "source": [
        "print(df_coeffs_sorted[df_coeffs_sorted.p<=0.05])"
      ],
      "execution_count": 37,
      "outputs": [
        {
          "output_type": "stream",
          "text": [
            "                    Coefficients             p       vif\n",
            "desc_len                0.078699  3.145194e-32  1.057526\n",
            "day_Sunday             40.121609  3.927841e-08  1.475285\n",
            "YesFinalInstrument     22.495602  1.747065e-06  1.098118\n",
            "day_Saturday           24.388873  2.971649e-04  1.604714\n",
            "day_Monday             19.715435  3.743754e-03  1.551804\n",
            "Brightness_Picture     -0.153782  5.592286e-03  2.292571\n",
            "Clarity_Picture        87.845024  3.911035e-02  1.148755\n"
          ],
          "name": "stdout"
        }
      ]
    },
    {
      "cell_type": "markdown",
      "metadata": {
        "id": "CMdgFTCaBfSD"
      },
      "source": [
        "Approach 2: Let us further reduce try to shrink the variance of the target variable by taking a log transformation."
      ]
    },
    {
      "cell_type": "code",
      "metadata": {
        "id": "KrNi7TJILai-"
      },
      "source": [
        "Y = np.log(reg_data_subset[\"likeCount\"]+1)\n",
        "X = reg_data_subset.drop(['likeCount'], axis=1).astype(float)\n",
        "X = sm.add_constant(X)\n",
        "model = sm.OLS(Y, X)\n",
        "results = model.fit()"
      ],
      "execution_count": 38,
      "outputs": []
    },
    {
      "cell_type": "code",
      "metadata": {
        "id": "TxvgTMHKLoBi"
      },
      "source": [
        "vif = variance_inflation_factor(X)\n",
        "vif_store=vif.drop('const',axis=0)"
      ],
      "execution_count": 39,
      "outputs": []
    },
    {
      "cell_type": "code",
      "metadata": {
        "id": "6ypfinusLyoo"
      },
      "source": [
        "vif_store.sort_values('vif',ascending=False)\n",
        "df_coeffs = pd.DataFrame({\"Coefficients\": results.params, \"p\": results.pvalues, \"vif\": vif[\"vif\"]})\n",
        "if 'const' in df_coeffs.index:\n",
        "    df_coeffs = df_coeffs.drop(\"const\", axis=0)\n",
        "df_coeffs_sorted = df_coeffs.reindex(df_coeffs[\"p\"].sort_values(ascending=True).index)\n"
      ],
      "execution_count": 40,
      "outputs": []
    },
    {
      "cell_type": "code",
      "metadata": {
        "id": "s3JpRV3pJCxw",
        "colab": {
          "base_uri": "https://localhost:8080/"
        },
        "outputId": "c7f995a0-3225-4cb1-d57f-d512a281b796"
      },
      "source": [
        "print(f'There are about {Counter(df_coeffs.p<=0.05)[True]} significant variables')\n",
        "print(f'There are about {Counter(df_coeffs.vif>=5)[True]} variables with variance inflation factor of more than 5')"
      ],
      "execution_count": 41,
      "outputs": [
        {
          "output_type": "stream",
          "text": [
            "There are about 85 significant variables\n",
            "There are about 85 variables with variance inflation factor of more than 5\n"
          ],
          "name": "stdout"
        }
      ]
    },
    {
      "cell_type": "code",
      "metadata": {
        "id": "wB5JSufKKgHu",
        "colab": {
          "base_uri": "https://localhost:8080/"
        },
        "outputId": "179013d2-8374-46d5-c5db-7f4406c22785"
      },
      "source": [
        "print(df_coeffs_sorted[df_coeffs_sorted.p<=0.05])"
      ],
      "execution_count": 42,
      "outputs": [
        {
          "output_type": "stream",
          "text": [
            "                           Coefficients             p           vif\n",
            "year_month_2014_September     -0.824340  1.023407e-40  2.533991e+09\n",
            "day_Saturday                   0.561461  4.859043e-38  1.695398e+00\n",
            "day_Sunday                     0.547467  1.487989e-35  1.576321e+00\n",
            "day_Monday                     0.473775  1.041088e-29  1.649529e+00\n",
            "day_Tuesday                    0.418678  9.246318e-26  1.873040e+00\n",
            "...                                 ...           ...           ...\n",
            "hour_10                        0.140561  2.865211e-02  1.701238e+00\n",
            "year_month_2016_December       0.194421  2.883821e-02  1.089138e+09\n",
            "hour_15                        0.576108  3.106540e-02  1.100628e+00\n",
            "year_month_2020_November      -0.198173  3.298477e-02  9.943491e+08\n",
            "year_month_2015_June           0.173265  3.611461e-02  1.315316e+09\n",
            "\n",
            "[85 rows x 3 columns]\n"
          ],
          "name": "stdout"
        }
      ]
    },
    {
      "cell_type": "code",
      "metadata": {
        "id": "6JK8JmZlMMNc"
      },
      "source": [
        "df_vif = X.loc[:, vif[\"vif\"] <= 5]\n",
        "X = sm.add_constant(df_vif.astype(float)) \n",
        "model = sm.OLS(Y, X)\n",
        "results = model.fit()"
      ],
      "execution_count": 43,
      "outputs": []
    },
    {
      "cell_type": "code",
      "metadata": {
        "id": "K5r-8mzeMqY5"
      },
      "source": [
        "vif=variance_inflation_factor(X)\n",
        "vif = variance_inflation_factor(X)\n",
        "vif_store=vif.drop('const',axis=0)\n",
        "vif_store.sort_values('vif',ascending=False)\n",
        "df_coeffs = pd.DataFrame({\"Coefficients\": results.params, \"p\": results.pvalues, \"vif\": vif[\"vif\"]})\n",
        "if 'const' in df_coeffs.index:\n",
        "    df_coeffs = df_coeffs.drop(\"const\", axis=0)\n",
        "df_coeffs_sorted = df_coeffs.reindex(df_coeffs[\"p\"].sort_values(ascending=True).index)\n"
      ],
      "execution_count": 44,
      "outputs": []
    },
    {
      "cell_type": "code",
      "metadata": {
        "id": "HTu0PenJM1wX",
        "colab": {
          "base_uri": "https://localhost:8080/"
        },
        "outputId": "94b03fb4-2db5-4bb8-d2cd-ed491392b56b"
      },
      "source": [
        "print(f'There are about {Counter(df_coeffs.p<=0.05)[True]} significant variables')\n",
        "print(f'There are about {Counter(df_coeffs.vif>=5)[True]} variables with variance inflation factor of more than 5')"
      ],
      "execution_count": 45,
      "outputs": [
        {
          "output_type": "stream",
          "text": [
            "There are about 9 significant variables\n",
            "There are about 0 variables with variance inflation factor of more than 5\n"
          ],
          "name": "stdout"
        }
      ]
    },
    {
      "cell_type": "code",
      "metadata": {
        "id": "kfGYAttsKj_R",
        "colab": {
          "base_uri": "https://localhost:8080/"
        },
        "outputId": "57e1c212-11da-4318-dd7f-89cf3bb35ad3"
      },
      "source": [
        "print(df_coeffs_sorted[df_coeffs_sorted.p<=0.05])"
      ],
      "execution_count": 46,
      "outputs": [
        {
          "output_type": "stream",
          "text": [
            "                    Coefficients             p       vif\n",
            "desc_len                0.000696  1.340839e-48  1.057526\n",
            "YesFinalInstrument      0.221602  3.006591e-11  1.098118\n",
            "day_Sunday              0.274048  1.086603e-07  1.475285\n",
            "day_Saturday            0.150719  1.551369e-03  1.604714\n",
            "Brightness_Picture     -0.001094  5.270091e-03  2.292571\n",
            "Clarity_Picture         0.729160  1.540599e-02  1.148755\n",
            "Contrast_Picture        0.002054  2.509474e-02  1.071781\n",
            "day_Monday              0.106075  2.723606e-02  1.551804\n",
            "Saturation_Picture     -0.001056  3.933132e-02  3.336059\n"
          ],
          "name": "stdout"
        }
      ]
    }
  ]
}