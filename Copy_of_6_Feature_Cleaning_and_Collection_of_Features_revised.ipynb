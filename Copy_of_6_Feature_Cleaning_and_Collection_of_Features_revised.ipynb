{
  "nbformat": 4,
  "nbformat_minor": 0,
  "metadata": {
    "colab": {
      "name": "Copy of 6. Feature Cleaning and Collection of Features_revised.ipynb",
      "provenance": [],
      "collapsed_sections": [],
      "include_colab_link": true
    },
    "kernelspec": {
      "name": "python3",
      "display_name": "Python 3"
    }
  },
  "cells": [
    {
      "cell_type": "markdown",
      "metadata": {
        "id": "view-in-github",
        "colab_type": "text"
      },
      "source": [
        "<a href=\"https://colab.research.google.com/github/Starrysmh/MARK5828-AdvertisingAnalytics-Project/blob/main/Copy_of_6_Feature_Cleaning_and_Collection_of_Features_revised.ipynb\" target=\"_parent\"><img src=\"https://colab.research.google.com/assets/colab-badge.svg\" alt=\"Open In Colab\"/></a>"
      ]
    },
    {
      "cell_type": "markdown",
      "metadata": {
        "id": "ou2Vtd2v-UGM"
      },
      "source": [
        "# What you need for running this notebook!!"
      ]
    },
    {
      "cell_type": "markdown",
      "metadata": {
        "id": "giZacI18rDIS"
      },
      "source": [
        "1. Extracted Data (csv files) from running the colab 5. Processing_Images_Using_Google_CV\n",
        "2. Output from running the colab corresponding to OpenCV\n",
        "3. Instagram Data (csv/excel sheets) downloaded from phantombuster\n"
      ]
    },
    {
      "cell_type": "markdown",
      "metadata": {
        "id": "xnRSsKAb-czK"
      },
      "source": [
        "# Importing the Libraries"
      ]
    },
    {
      "cell_type": "code",
      "metadata": {
        "id": "v3MkNMdiL-ba",
        "colab": {
          "base_uri": "https://localhost:8080/"
        },
        "outputId": "244fa3f1-0f16-4e45-bdf1-6bab8e7c3c3f"
      },
      "source": [
        "import pandas as pd \n",
        "import numpy as np\n",
        "import os\n",
        "from sklearn.feature_extraction.text import CountVectorizer\n",
        "cv=CountVectorizer()\n",
        "!pip install webcolors\n",
        "import webcolors\n",
        "from math import sqrt as sq\n",
        "from collections import Counter\n",
        "from string import punctuation\n",
        "from google.colab import files"
      ],
      "execution_count": 1,
      "outputs": [
        {
          "output_type": "stream",
          "text": [
            "Collecting webcolors\n",
            "  Downloading https://files.pythonhosted.org/packages/12/05/3350559de9714b202e443a9e6312937341bd5f79f4e4f625744295e7dd17/webcolors-1.11.1-py3-none-any.whl\n",
            "Installing collected packages: webcolors\n",
            "Successfully installed webcolors-1.11.1\n"
          ],
          "name": "stdout"
        }
      ]
    },
    {
      "cell_type": "markdown",
      "metadata": {
        "id": "gWGgJaoi-k0a"
      },
      "source": [
        "Setting the Source path for the extracted google vision features"
      ]
    },
    {
      "cell_type": "code",
      "metadata": {
        "id": "V3jZeQnfPgrJ"
      },
      "source": [
        "src_path='./drive/MyDrive/Advertising_Analytics_T2_2021/B2C_B2B/gsus4/extracted_vision_data/'"
      ],
      "execution_count": 2,
      "outputs": []
    },
    {
      "cell_type": "markdown",
      "metadata": {
        "id": "m8kpjJftZvAy"
      },
      "source": [
        "Adding Messages to print when we catch an exception"
      ]
    },
    {
      "cell_type": "code",
      "metadata": {
        "id": "6WEnFrxkZuSA"
      },
      "source": [
        "file_not_found_error_msg='Looks like there is no file with the specified name in the specified path!\\nPlease check!!'\n",
        "name_eror_msg='Looks like the variable you are trying to give as input to the function does not exist or a function itself is not defined! \\nKindly Check!'"
      ],
      "execution_count": 3,
      "outputs": []
    },
    {
      "cell_type": "code",
      "metadata": {
        "id": "MES9eHAnmSVd"
      },
      "source": [
        "def file_reader(): \n",
        "  uploaded_file=files.upload()\n",
        "  uploaded_file=list(uploaded_file.keys())[0]\n",
        "  if uploaded_file.endswith('csv'):\n",
        "    data=pd.read_csv(uploaded_file)\n",
        "  else:\n",
        "    data=pd.read_excel(uploaded_file)\n",
        "  return data"
      ],
      "execution_count": 4,
      "outputs": []
    },
    {
      "cell_type": "code",
      "metadata": {
        "id": "jPqvfKFQsWLm",
        "colab": {
          "resources": {
            "http://localhost:8080/nbextensions/google.colab/files.js": {
              "data": "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",
              "ok": true,
              "headers": [
                [
                  "content-type",
                  "application/javascript"
                ]
              ],
              "status": 200,
              "status_text": ""
            }
          },
          "base_uri": "https://localhost:8080/",
          "height": 89
        },
        "outputId": "f85d3c45-a0b4-4d4a-ab2f-e788ac426dcf"
      },
      "source": [
        "print('Please Upload the data with features extracted using OpenCv:')\n",
        "opencv_features=file_reader()"
      ],
      "execution_count": 5,
      "outputs": [
        {
          "output_type": "stream",
          "text": [
            "Please Upload the data with features extracted using OpenCv:\n"
          ],
          "name": "stdout"
        },
        {
          "output_type": "display_data",
          "data": {
            "text/html": [
              "\n",
              "     <input type=\"file\" id=\"files-e4554633-4ddc-4e1c-96d1-fed6e9b707de\" name=\"files[]\" multiple disabled\n",
              "        style=\"border:none\" />\n",
              "     <output id=\"result-e4554633-4ddc-4e1c-96d1-fed6e9b707de\">\n",
              "      Upload widget is only available when the cell has been executed in the\n",
              "      current browser session. Please rerun this cell to enable.\n",
              "      </output>\n",
              "      <script src=\"/nbextensions/google.colab/files.js\"></script> "
            ],
            "text/plain": [
              "<IPython.core.display.HTML object>"
            ]
          },
          "metadata": {
            "tags": []
          }
        },
        {
          "output_type": "stream",
          "text": [
            "Saving gsus4_visual_features_1427photo_fromOpenCV.csv to gsus4_visual_features_1427photo_fromOpenCV.csv\n"
          ],
          "name": "stdout"
        }
      ]
    },
    {
      "cell_type": "code",
      "metadata": {
        "id": "Q0Fd_UzMXBtt",
        "colab": {
          "resources": {
            "http://localhost:8080/nbextensions/google.colab/files.js": {
              "data": "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",
              "ok": true,
              "headers": [
                [
                  "content-type",
                  "application/javascript"
                ]
              ],
              "status": 200,
              "status_text": ""
            }
          },
          "base_uri": "https://localhost:8080/",
          "height": 89
        },
        "outputId": "e635ff0e-c72f-4f07-c9ba-db3c7b05c63c"
      },
      "source": [
        "print('please upload the instagram data')\n",
        "insta_data=file_reader()\n",
        "insta_data['file']=insta_data.index+2"
      ],
      "execution_count": 6,
      "outputs": [
        {
          "output_type": "stream",
          "text": [
            "please upload the instagram data\n"
          ],
          "name": "stdout"
        },
        {
          "output_type": "display_data",
          "data": {
            "text/html": [
              "\n",
              "     <input type=\"file\" id=\"files-abb0ef49-9781-459f-8ece-2b06e27c39fb\" name=\"files[]\" multiple disabled\n",
              "        style=\"border:none\" />\n",
              "     <output id=\"result-abb0ef49-9781-459f-8ece-2b06e27c39fb\">\n",
              "      Upload widget is only available when the cell has been executed in the\n",
              "      current browser session. Please rerun this cell to enable.\n",
              "      </output>\n",
              "      <script src=\"/nbextensions/google.colab/files.js\"></script> "
            ],
            "text/plain": [
              "<IPython.core.display.HTML object>"
            ]
          },
          "metadata": {
            "tags": []
          }
        },
        {
          "output_type": "stream",
          "text": [
            "Saving gsus4coinstacrape.csv to gsus4coinstacrape.csv\n"
          ],
          "name": "stdout"
        }
      ]
    },
    {
      "cell_type": "code",
      "metadata": {
        "id": "fdvDq2VFlVot",
        "colab": {
          "base_uri": "https://localhost:8080/"
        },
        "outputId": "6fd96a52-8ae6-4021-c7ea-040017039d16"
      },
      "source": [
        "from google.colab import drive\n",
        "drive.mount('/content/drive')"
      ],
      "execution_count": 7,
      "outputs": [
        {
          "output_type": "stream",
          "text": [
            "Mounted at /content/drive\n"
          ],
          "name": "stdout"
        }
      ]
    },
    {
      "cell_type": "markdown",
      "metadata": {
        "id": "8ytfk5Zm_fUO"
      },
      "source": [
        "# Reading the relevant data based on you research question"
      ]
    },
    {
      "cell_type": "markdown",
      "metadata": {
        "id": "3Gi0_2vGY15S"
      },
      "source": [
        "While this section contains code to pre-process the data from all the 8 APIs. Please use the sections only that are relevant to you!"
      ]
    },
    {
      "cell_type": "markdown",
      "metadata": {
        "id": "8-qnda5i_mFe"
      },
      "source": [
        "This section contains the commands necessary to read the data (csv files) with features from google vision which we extracted using the notebook 5."
      ]
    },
    {
      "cell_type": "markdown",
      "metadata": {
        "id": "kD9Obi77AiRS"
      },
      "source": [
        "1. Face Detection "
      ]
    },
    {
      "cell_type": "code",
      "metadata": {
        "id": "dr86naSt_BbG"
      },
      "source": [
        "try:\n",
        "  face_data=pd.read_csv(src_path+'face_data.csv')\n",
        "except FileNotFoundError:\n",
        "  try:\n",
        "    face_data=pd.read_excel(src_path+'face_data.xlsx')\n",
        "  except FileNotFoundError:\n",
        "    print(file_not_found_error_msg)\n"
      ],
      "execution_count": 8,
      "outputs": []
    },
    {
      "cell_type": "markdown",
      "metadata": {
        "id": "dSXSmbjRBMwg"
      },
      "source": [
        "Function to pre process the features extracted from the Face Detection API."
      ]
    },
    {
      "cell_type": "code",
      "metadata": {
        "id": "c7GuDQJ-BFpR"
      },
      "source": [
        "def pre_proc_face_data(df):\n",
        "  emotional_ones=['LIKELY','POSSIBLE','VERY_LIKELY',3,4,5]\n",
        "  df['joy_faces']=df.joy.apply(lambda x:1 if x in emotional_ones else 0)\n",
        "  df['sorrow_faces']=df.sorrow.apply(lambda x:1 if x in emotional_ones else 0)\n",
        "  df['surprise_faces']=df.surprise.apply(lambda x:1 if x in emotional_ones else 0)\n",
        "  df['anger_faces']=df.anger.apply(lambda x:1 if x in emotional_ones else 0)\n",
        "  df['blurred_binary']=df.blurred.apply(lambda x:1 if x in emotional_ones else 0)\n",
        "  df=df.groupby('file').sum()\n",
        "  df.drop('detection_confidence',axis=1,inplace=True)\n",
        "  df.reset_index(inplace=True)\n",
        "  df['blurred']=df['blurred_binary'].apply(lambda x:1 if x>=1 else 0)\n",
        "  df.drop('blurred_binary',axis=1,inplace=True)\n",
        "  return df"
      ],
      "execution_count": 9,
      "outputs": []
    },
    {
      "cell_type": "code",
      "metadata": {
        "id": "gdyjET01BKRN",
        "colab": {
          "base_uri": "https://localhost:8080/"
        },
        "outputId": "586f0295-ec7c-4711-f246-d7e2ea9bb989"
      },
      "source": [
        "try:\n",
        "  face_mod=pre_proc_face_data(face_data)\n",
        "  print(face_mod.head())\n",
        "except NameError:\n",
        "  print(name_eror_msg)"
      ],
      "execution_count": 10,
      "outputs": [
        {
          "output_type": "stream",
          "text": [
            "          file  anger  sorrow  ...  sorrow_faces  surprise_faces  anger_faces\n",
            "0  1052_pretty      1       1  ...             0               0            0\n",
            "1  1053_pretty      1       1  ...             0               0            0\n",
            "2  1075_pretty      1       1  ...             0               0            0\n",
            "3  1076_pretty      1       1  ...             0               0            0\n",
            "4  1100_pretty      1       1  ...             0               0            0\n",
            "\n",
            "[5 rows x 12 columns]\n"
          ],
          "name": "stdout"
        }
      ]
    },
    {
      "cell_type": "markdown",
      "metadata": {
        "id": "x8SjtPIeAmZ2"
      },
      "source": [
        "2. Image Properties Detection"
      ]
    },
    {
      "cell_type": "code",
      "metadata": {
        "id": "lWc1TxXW_FKY"
      },
      "source": [
        "try:\n",
        "  image_properties_data=pd.read_csv(src_path+'image_properties_data.csv')\n",
        "except FileNotFoundError:\n",
        "  try:\n",
        "    image_properties_data=pd.read_excel(src_path+'image_properties_data.xlsx')\n",
        "  except FileNotFoundError:\n",
        "    print(file_not_found_error_msg)"
      ],
      "execution_count": 11,
      "outputs": []
    },
    {
      "cell_type": "code",
      "metadata": {
        "id": "Ru6c_vOfnFSu",
        "colab": {
          "base_uri": "https://localhost:8080/",
          "height": 204
        },
        "outputId": "2c042fdc-49f2-4fa1-8dd2-fb66c1a50e2e"
      },
      "source": [
        "image_properties_data.head()"
      ],
      "execution_count": 12,
      "outputs": [
        {
          "output_type": "execute_result",
          "data": {
            "text/html": [
              "<div>\n",
              "<style scoped>\n",
              "    .dataframe tbody tr th:only-of-type {\n",
              "        vertical-align: middle;\n",
              "    }\n",
              "\n",
              "    .dataframe tbody tr th {\n",
              "        vertical-align: top;\n",
              "    }\n",
              "\n",
              "    .dataframe thead th {\n",
              "        text-align: right;\n",
              "    }\n",
              "</style>\n",
              "<table border=\"1\" class=\"dataframe\">\n",
              "  <thead>\n",
              "    <tr style=\"text-align: right;\">\n",
              "      <th></th>\n",
              "      <th>file</th>\n",
              "      <th>color</th>\n",
              "      <th>pixel_fraction</th>\n",
              "      <th>color_score</th>\n",
              "    </tr>\n",
              "  </thead>\n",
              "  <tbody>\n",
              "    <tr>\n",
              "      <th>0</th>\n",
              "      <td>1035_pretty</td>\n",
              "      <td>(13.0, 19.0, 23.0)</td>\n",
              "      <td>0.360000</td>\n",
              "      <td>0.386262</td>\n",
              "    </tr>\n",
              "    <tr>\n",
              "      <th>1</th>\n",
              "      <td>1035_pretty</td>\n",
              "      <td>(243.0, 192.0, 172.0)</td>\n",
              "      <td>0.036200</td>\n",
              "      <td>0.075618</td>\n",
              "    </tr>\n",
              "    <tr>\n",
              "      <th>2</th>\n",
              "      <td>1035_pretty</td>\n",
              "      <td>(21.0, 52.0, 75.0)</td>\n",
              "      <td>0.023933</td>\n",
              "      <td>0.040213</td>\n",
              "    </tr>\n",
              "    <tr>\n",
              "      <th>3</th>\n",
              "      <td>1035_pretty</td>\n",
              "      <td>(242.0, 219.0, 191.0)</td>\n",
              "      <td>0.017067</td>\n",
              "      <td>0.033306</td>\n",
              "    </tr>\n",
              "    <tr>\n",
              "      <th>4</th>\n",
              "      <td>1035_pretty</td>\n",
              "      <td>(33.0, 135.0, 114.0)</td>\n",
              "      <td>0.010867</td>\n",
              "      <td>0.030500</td>\n",
              "    </tr>\n",
              "  </tbody>\n",
              "</table>\n",
              "</div>"
            ],
            "text/plain": [
              "          file                  color  pixel_fraction  color_score\n",
              "0  1035_pretty     (13.0, 19.0, 23.0)        0.360000     0.386262\n",
              "1  1035_pretty  (243.0, 192.0, 172.0)        0.036200     0.075618\n",
              "2  1035_pretty     (21.0, 52.0, 75.0)        0.023933     0.040213\n",
              "3  1035_pretty  (242.0, 219.0, 191.0)        0.017067     0.033306\n",
              "4  1035_pretty   (33.0, 135.0, 114.0)        0.010867     0.030500"
            ]
          },
          "metadata": {
            "tags": []
          },
          "execution_count": 12
        }
      ]
    },
    {
      "cell_type": "markdown",
      "metadata": {
        "id": "9261N0Al2VVO"
      },
      "source": [
        "Functions to simply the colors and map them"
      ]
    },
    {
      "cell_type": "code",
      "metadata": {
        "id": "4PkaYxw0NgCK"
      },
      "source": [
        "def closest_colour(requested_colour):\n",
        "    min_colours = {}\n",
        "    for key, name in webcolors.CSS3_HEX_TO_NAMES.items():\n",
        "        r_c, g_c, b_c = webcolors.hex_to_rgb(key)\n",
        "        rd = (r_c - requested_colour[0]) ** 2\n",
        "        gd = (g_c - requested_colour[1]) ** 2\n",
        "        bd = (b_c - requested_colour[2]) ** 2\n",
        "        min_colours[(rd + gd + bd)] = name\n",
        "    return min_colours[min(min_colours.keys())]\n",
        "\n",
        "def get_colour_name(requested_colour):\n",
        "    try:\n",
        "        closest_name = actual_name = webcolors.rgb_to_name(requested_colour)\n",
        "    except ValueError:\n",
        "        closest_name = closest_colour(requested_colour)\n",
        "        actual_name = None\n",
        "    return closest_name\n",
        "\n",
        "def match_base_color(requested_color):\n",
        "  base_colors=['black','white','blue','green','red','orange','yellow','pink']\n",
        "  \n",
        "  base_color_dict={c:[webcolors.name_to_rgb(c).red,webcolors.name_to_rgb(c).green,webcolors.name_to_rgb(c).blue] for c in base_colors}\n",
        "  euc_dist={}\n",
        "  for k,v in base_color_dict.items():\n",
        "    euc_dist[(sq((v[0]-requested_color[0])**2+(v[1]-requested_color[1])**2+(v[2]-requested_color[2])**2))]=k\n",
        "  return euc_dist[min(euc_dist.keys())]\n",
        "\n",
        "def pre_proc_image_prop(df):\n",
        "  df1=df.copy()\n",
        "  df1['color']=df1.color.apply(lambda x:(int(float(x.strip(')').strip('(').split(',')[0])),int(float(x.strip(')').strip('(').split(',')[1])),int(float(x.strip(')').strip('(').split(',')[2]))))\n",
        "\n",
        "  df1['color_name']=df1.color.apply(lambda x:get_colour_name(x))\n",
        "\n",
        "  df1['color_name']=df1.color_name.apply(lambda x:match_base_color([webcolors.name_to_rgb(x).red,webcolors.name_to_rgb(x).green,webcolors.name_to_rgb(x).blue]))\n",
        "  df1.drop(['color','color_score'],axis=1,inplace=True)\n",
        "  df1.index=df1.file\n",
        "  df1.drop('file',axis=1,inplace=True)\n",
        "  df1=pd.get_dummies(df1,columns=['color_name']).mul(df1.pixel_fraction,axis=0)\n",
        "  df1.drop('pixel_fraction',inplace=True,axis=1)\n",
        "  df1.reset_index(inplace=True)\n",
        "  df1=df1.groupby('file').sum()\n",
        "  df1.reset_index(inplace=True)\n",
        "  return df1\n"
      ],
      "execution_count": 13,
      "outputs": []
    },
    {
      "cell_type": "code",
      "metadata": {
        "id": "9d_hb8WyNqFX",
        "colab": {
          "base_uri": "https://localhost:8080/"
        },
        "outputId": "3125b450-29d7-4973-c885-931099b95f90"
      },
      "source": [
        "try:\n",
        "  image_properties_data_mod=pre_proc_image_prop(df=image_properties_data)\n",
        "  print(image_properties_data_mod.head())\n",
        "except NameError:\n",
        "  print(name_eror_msg)"
      ],
      "execution_count": 14,
      "outputs": [
        {
          "output_type": "stream",
          "text": [
            "          file  color_name_black  ...  color_name_white  color_name_yellow\n",
            "0  1000_pretty          0.033867  ...               0.0                0.0\n",
            "1  1001_pretty          0.018844  ...               0.0                0.0\n",
            "2  1002_pretty          0.124311  ...               0.0                0.0\n",
            "3  1003_pretty          0.025378  ...               0.0                0.0\n",
            "4  1004_pretty          0.282267  ...               0.0                0.0\n",
            "\n",
            "[5 rows x 9 columns]\n"
          ],
          "name": "stdout"
        }
      ]
    },
    {
      "cell_type": "markdown",
      "metadata": {
        "id": "UOQDc2pUAswH"
      },
      "source": [
        "3. Landmark Detection"
      ]
    },
    {
      "cell_type": "code",
      "metadata": {
        "id": "B67T42y8_GOv"
      },
      "source": [
        "try:\n",
        "  landmark_data=pd.read_csv(src_path+'landmark_data.csv')\n",
        "except FileNotFoundError:\n",
        "  try:\n",
        "    landmark_data=pd.read_excel(src_path+'landmark_data.xlsx')\n",
        "  except:\n",
        "    print(file_not_found_error_msg)"
      ],
      "execution_count": 15,
      "outputs": []
    },
    {
      "cell_type": "code",
      "metadata": {
        "id": "yL7nR0-6lzcD",
        "colab": {
          "base_uri": "https://localhost:8080/"
        },
        "outputId": "a3b6bbc8-495c-4d0e-d5ce-7beabb2ce184"
      },
      "source": [
        "try:\n",
        "  landmark_data_mod=pd.get_dummies(landmark_data,columns=['landmark_description'],drop_first=True)\n",
        "  landmark_data_mod.drop('landmark_score',axis=1,inplace=True)\n",
        "  landmark_data_mod=landmark_data_mod.groupby('file').sum() #for handling multiple landmarks\n",
        "  landmark_data_mod.reset_index(inplace=True)\n",
        "  print(landmark_data_mod.head())\n",
        "except NameError:\n",
        "  print(name_eror_msg)"
      ],
      "execution_count": 16,
      "outputs": [
        {
          "output_type": "stream",
          "text": [
            "          file  ...  landmark_description_Twain's Tavern\n",
            "0  1006_pretty  ...                                    0\n",
            "1  1158_pretty  ...                                    0\n",
            "2  1204_pretty  ...                                    0\n",
            "3  1262_pretty  ...                                    0\n",
            "4  1327_pretty  ...                                    0\n",
            "\n",
            "[5 rows x 13 columns]\n"
          ],
          "name": "stdout"
        }
      ]
    },
    {
      "cell_type": "markdown",
      "metadata": {
        "id": "CaBf6hiVAvrA"
      },
      "source": [
        "4. Logo Detection"
      ]
    },
    {
      "cell_type": "code",
      "metadata": {
        "id": "n4PcD8zh_Isn"
      },
      "source": [
        "try:\n",
        "  logo_data=pd.read_csv(src_path+'logo_data.csv')\n",
        "except FileNotFoundError:\n",
        "  try:\n",
        "    logo_data=pd.read_excel(src_path+'logo_data.xlsx')\n",
        "  except FileNotFoundError:\n",
        "    print(file_not_found_error_msg)"
      ],
      "execution_count": 17,
      "outputs": []
    },
    {
      "cell_type": "markdown",
      "metadata": {
        "id": "4EqcBRg-qKpM"
      },
      "source": [
        "Helper Functions for Pre Processing"
      ]
    },
    {
      "cell_type": "markdown",
      "metadata": {
        "id": "Q8yol7VmqS7q"
      },
      "source": [
        "We use two functions to help us: freq_desc and dummify_df.\n",
        "\n",
        "Freq_Desc takes in a dataframe, column (categorical) and a threshold frequency. \n",
        "\n",
        "It retains only those values of the column that appear at least as much as the specified threshold_freq.\n",
        "\n",
        "These values are then used by the dummify_df and dummy variables are created.\n",
        "\n"
      ]
    },
    {
      "cell_type": "markdown",
      "metadata": {
        "id": "okMI5fERCN2h"
      },
      "source": [
        "Please note that you may have to change the threshold_freq based on your data and observations."
      ]
    },
    {
      "cell_type": "code",
      "metadata": {
        "id": "jttPLdZypahR"
      },
      "source": [
        "def freq_desc(df,col_name,threshold_freq=10):\n",
        "  df_mod=df.groupby(['file',col_name]).max()\n",
        "  df_mod.reset_index(inplace=True)\n",
        "  freq_descriptions=df_mod[col_name].value_counts()\n",
        "  freq_descriptions=list(freq_descriptions[freq_descriptions>=threshold_freq].index.values)\n",
        "  return freq_descriptions\n",
        "\n",
        "def dummify_df(df,col_name,threshold_freq=10):\n",
        "  f=freq_desc(df=df,col_name=col_name,threshold_freq=threshold_freq)\n",
        "  df_mod=df[df[col_name].isin(f)]\n",
        "  df_mod=pd.get_dummies(df_mod,columns=[col_name])\n",
        "  return df_mod\n"
      ],
      "execution_count": 18,
      "outputs": []
    },
    {
      "cell_type": "code",
      "metadata": {
        "id": "ztRkffokn_kF",
        "colab": {
          "base_uri": "https://localhost:8080/"
        },
        "outputId": "450b7136-7919-494d-feca-8de558450f12"
      },
      "source": [
        "try:\n",
        "  logo_data_mod=dummify_df(logo_data,'logo_description',threshold_freq=1)\n",
        "  logo_data_mod=logo_data_mod.groupby('file').sum()\n",
        "  logo_data_mod.reset_index(inplace=True)\n",
        "  logo_data_mod.drop('logo_score',axis=1,inplace=True)\n",
        "  print(logo_data_mod.head())\n",
        "except NameError:\n",
        "  print(name_eror_msg)"
      ],
      "execution_count": 19,
      "outputs": [
        {
          "output_type": "stream",
          "text": [
            "          file  ...  logo_description_zSpace\n",
            "0  1006_pretty  ...                        0\n",
            "1  1008_pretty  ...                        0\n",
            "2  1012_pretty  ...                        0\n",
            "3  1014_pretty  ...                        0\n",
            "4  1015_pretty  ...                        0\n",
            "\n",
            "[5 rows x 443 columns]\n"
          ],
          "name": "stdout"
        }
      ]
    },
    {
      "cell_type": "markdown",
      "metadata": {
        "id": "hjhOchbHAyFb"
      },
      "source": [
        "5. Multiple Objects Detection"
      ]
    },
    {
      "cell_type": "code",
      "metadata": {
        "id": "Cr7za_NH_JeF"
      },
      "source": [
        "try:\n",
        "  multiple_objects_data=pd.read_csv(src_path+'multiple_objects_data.csv')\n",
        "except FileNotFoundError:\n",
        "  try:\n",
        "    multiple_objects_data=pd.read_excel(src_path+'multiple_objects_data.xlsx')\n",
        "  except FileNotFoundError:\n",
        "    print(file_not_found_error_msg)"
      ],
      "execution_count": 20,
      "outputs": []
    },
    {
      "cell_type": "code",
      "metadata": {
        "id": "TMKnC49Suo3q",
        "colab": {
          "base_uri": "https://localhost:8080/"
        },
        "outputId": "6855a364-6235-4d01-8242-fb4972015561"
      },
      "source": [
        "try:\n",
        "  multiple_objects_data_mod=dummify_df(multiple_objects_data,'object_name',threshold_freq=10)\n",
        "  multiple_objects_data_mod=multiple_objects_data_mod.groupby('file').sum()\n",
        "  multiple_objects_data_mod.reset_index(inplace=True)\n",
        "  multiple_objects_data_mod.drop('object_score',axis=1,inplace=True)\n",
        "  print(multiple_objects_data_mod.head())\n",
        "except NameError:\n",
        "  print(name_eror_msg)"
      ],
      "execution_count": 21,
      "outputs": [
        {
          "output_type": "stream",
          "text": [
            "          file  object_name_Bag  ...  object_name_Table top  object_name_Top\n",
            "0  1000_pretty                0  ...                      0                0\n",
            "1  1001_pretty                0  ...                      0                0\n",
            "2  1002_pretty                0  ...                      0                0\n",
            "3  1003_pretty                0  ...                      0                0\n",
            "4  1004_pretty                0  ...                      0                0\n",
            "\n",
            "[5 rows x 36 columns]\n"
          ],
          "name": "stdout"
        }
      ]
    },
    {
      "cell_type": "markdown",
      "metadata": {
        "id": "7KoupmoFA54O"
      },
      "source": [
        "6. OCR Detection"
      ]
    },
    {
      "cell_type": "code",
      "metadata": {
        "id": "_u2oI8E9_MKZ"
      },
      "source": [
        "try:\n",
        "  #ocr_data=pd.read_csv(src_path+'ocr_data.csv')\n",
        "  ocr_data=pd.read_excel(src_path+'ocr_data.xlsx')\n",
        "except FileNotFoundError:\n",
        "  print(file_not_found_error_msg)"
      ],
      "execution_count": 22,
      "outputs": []
    },
    {
      "cell_type": "markdown",
      "metadata": {
        "id": "O6_WkISMCdPb"
      },
      "source": [
        "Function to Preprocess the OCR Text - It helps creates frequency of each word in the text_description.\n",
        "\n",
        "We have added an additional constraint that a desirable word should be atleast 3 characters long (min_len) and atleast have appeared 30 times (min_freq) in all of the data. \n",
        "\n",
        "You may change the min_len and min_freq based on your data and observations."
      ]
    },
    {
      "cell_type": "code",
      "metadata": {
        "id": "qVgLpVTrvJpq"
      },
      "source": [
        "def preprocess_ocr_text(df,col_name,min_len,min_freq):\n",
        "  translator = str.maketrans('', '', punctuation)\n",
        "  df['clean_'+col_name]=df[col_name].apply(lambda x:x.replace('\\n',' '))\n",
        "  df['clean_'+col_name]=df['clean_'+col_name].apply(lambda x:x.upper())\n",
        "  df['clean_'+col_name]=df['clean_'+col_name].apply(lambda x:x.translate(translator))\n",
        "  cv_fit=cv.fit_transform(df['clean_'+col_name])\n",
        "  cv_op=pd.DataFrame(cv_fit.todense(),columns=cv.get_feature_names())\n",
        "  cols_to_drop=[i for i in cv_op.columns if len(i) < min_len and i!='' and i!=' ']\n",
        "  cols_to_drop.extend(cv_op.sum()[cv_op.sum()<min_freq].index.values)\n",
        "  cv_op.drop(cols_to_drop,axis=1,inplace=True)\n",
        "  cv_op.index=df.file\n",
        "  cv_op.reset_index(inplace=True)\n",
        "  return cv_op"
      ],
      "execution_count": 23,
      "outputs": []
    },
    {
      "cell_type": "code",
      "metadata": {
        "id": "J_BoqW5VvQXq",
        "colab": {
          "base_uri": "https://localhost:8080/"
        },
        "outputId": "31e95169-3acd-4503-9d16-150b4f77021a"
      },
      "source": [
        "try:\n",
        "  ocr_data_mod=preprocess_ocr_text(df=ocr_data,col_name='ocr_text_description',min_len=3,min_freq=30)\n",
        "  ocr_data_mod.sort_values(by='file',inplace=True)\n",
        "  print(ocr_data_mod.head())\n",
        "except NameError:\n",
        "  print(name_eror_msg)"
      ],
      "execution_count": 24,
      "outputs": [
        {
          "output_type": "stream",
          "text": [
            "             file  100  24ghz  500ma  ...  wwwgsus4comau  xlr  you  your\n",
            "1100  1000_pretty    0      0      0  ...              0    0    0     0\n",
            "1101  1001_pretty    0      0      0  ...              0    0    0     0\n",
            "1102  1002_pretty    0      0      0  ...              0    0    0     0\n",
            "1103  1003_pretty    0      0      0  ...              0    0    0     0\n",
            "1104  1004_pretty    0      0      0  ...              0    0    0     0\n",
            "\n",
            "[5 rows x 199 columns]\n"
          ],
          "name": "stdout"
        }
      ]
    },
    {
      "cell_type": "markdown",
      "metadata": {
        "id": "SWB0bVP3A9Vf"
      },
      "source": [
        "7. Safe Search Detection"
      ]
    },
    {
      "cell_type": "code",
      "metadata": {
        "id": "5eIlUkq0_NA-"
      },
      "source": [
        "try:\n",
        "  safe_search_data=pd.read_csv(src_path+'safe_search_data.csv')\n",
        "except FileNotFoundError:\n",
        "  try:\n",
        "    safe_search_data=pd.read_excel(src_path+'safe_search_data.xlsx')\n",
        "  except FileNotFoundError:\n",
        "    print(file_not_found_error_msg)"
      ],
      "execution_count": 25,
      "outputs": []
    },
    {
      "cell_type": "code",
      "metadata": {
        "id": "_CF0wLl1v_TO"
      },
      "source": [
        "def pre_proc_safe_search_data(df):\n",
        "  emotional_ones=['LIKELY','POSSIBLE','VERY_LIKELY',3,4,5]\n",
        "  df['adult']=df.adult.apply(lambda x:1 if x in emotional_ones else 0)\n",
        "  df['racy']=df.racy.apply(lambda x:1 if x in emotional_ones else 0)\n",
        "  df['medical']=df.medical.apply(lambda x:1 if x in emotional_ones else 0)\n",
        "  df['spoof']=df.spoof.apply(lambda x:1 if x in emotional_ones else 0)\n",
        "  df['violence']=df.violence.apply(lambda x:1 if x in emotional_ones else 0)\n",
        "  return df"
      ],
      "execution_count": 26,
      "outputs": []
    },
    {
      "cell_type": "code",
      "metadata": {
        "id": "TrPe9SamwFRG",
        "colab": {
          "base_uri": "https://localhost:8080/"
        },
        "outputId": "2c9a9659-6ec1-4a2b-8b9e-294b63014dcd"
      },
      "source": [
        "try:\n",
        "  safe_search_mod=pre_proc_safe_search_data(safe_search_data)\n",
        "  print(safe_search_mod.head())\n",
        "except NameError:\n",
        "  print(name_eror_msg)"
      ],
      "execution_count": 27,
      "outputs": [
        {
          "output_type": "stream",
          "text": [
            "          file  adult  medical  racy  spoof  violence\n",
            "0  1035_pretty      0        0     0      0         0\n",
            "1  1036_pretty      0        0     0      0         0\n",
            "2  1037_pretty      0        0     0      0         0\n",
            "3  1038_pretty      0        0     0      0         0\n",
            "4  1042_pretty      0        0     0      0         0\n"
          ],
          "name": "stdout"
        }
      ]
    },
    {
      "cell_type": "markdown",
      "metadata": {
        "id": "ZRo7_KnqA_XF"
      },
      "source": [
        "8. Web Entities Detection"
      ]
    },
    {
      "cell_type": "code",
      "metadata": {
        "id": "1rjQNdbS_Pr-"
      },
      "source": [
        "try:\n",
        "  web_data=pd.read_csv(src_path+'web_search_data.csv')\n",
        "except FileNotFoundError:\n",
        "  try:\n",
        "    web_data=pd.read_excel(src_path+'web_search_data.xlsx')\n",
        "  except FileNotFoundError:\n",
        "    print(file_not_found_error_msg)"
      ],
      "execution_count": 28,
      "outputs": []
    },
    {
      "cell_type": "code",
      "metadata": {
        "id": "lc_O_NubwVlX",
        "colab": {
          "base_uri": "https://localhost:8080/"
        },
        "outputId": "3e089af4-646f-48dc-89cf-072d4ece364c"
      },
      "source": [
        "try:\n",
        "  web_data_mod=dummify_df(df=web_data[web_data.web_score>=0.5],col_name='web_description',threshold_freq=3)\n",
        "  web_data_mod.drop(['web_score'],inplace=True,axis=1)\n",
        "  web_data_mod.drop_duplicates(inplace=True)\n",
        "  web_data_mod=web_data_mod.groupby(['file','best_guess_labels']).sum()\n",
        "  web_data_mod.reset_index(inplace=True)\n",
        "  web_data_mod=dummify_df(df=web_data_mod,col_name='best_guess_labels',threshold_freq=1)\n",
        "  print(web_data_mod.head())\n",
        "except NameError:\n",
        "  print(name_eror_msg)"
      ],
      "execution_count": 29,
      "outputs": [
        {
          "output_type": "stream",
          "text": [
            "          file  ...  best_guess_labels_캠퍼 플로어\n",
            "0  1000_pretty  ...                         0\n",
            "1  1001_pretty  ...                         0\n",
            "2  1002_pretty  ...                         0\n",
            "3  1004_pretty  ...                         0\n",
            "4  1006_pretty  ...                         0\n",
            "\n",
            "[5 rows x 519 columns]\n"
          ],
          "name": "stdout"
        }
      ]
    },
    {
      "cell_type": "markdown",
      "metadata": {
        "id": "q81BQxSnaYt6"
      },
      "source": [
        "### 9. Label Detection"
      ]
    },
    {
      "cell_type": "code",
      "metadata": {
        "id": "PTpzJyKhac7X"
      },
      "source": [
        "try:\n",
        "  label_data=pd.read_csv(src_path+'label_data.csv')\n",
        "except FileNotFoundError:\n",
        "  try:\n",
        "    label_data=pd.read_excel(src_path+'label_data.xlsx')\n",
        "  except FileNotFoundError:\n",
        "    print(file_not_found_error_msg)"
      ],
      "execution_count": 30,
      "outputs": []
    },
    {
      "cell_type": "code",
      "metadata": {
        "id": "9UlYsMofaXIh",
        "colab": {
          "base_uri": "https://localhost:8080/"
        },
        "outputId": "b2b7fd87-0cd0-4eff-ad40-ac411eee39d9"
      },
      "source": [
        "try:\n",
        "  label_data_mod=dummify_df(df=label_data[label_data.label_score>=0.5],col_name='label_description',threshold_freq=0.05*len(label_data.file.unique()))\n",
        "  label_data_mod.drop(['label_score','topicality'],inplace=True,axis=1)\n",
        "  label_data_mod=label_data_mod.groupby(['file']).sum()\n",
        "  label_data_mod.drop_duplicates(inplace=True)\n",
        "  label_data_mod.reset_index(inplace=True)\n",
        "  print(label_data_mod.head())\n",
        "except NameError:\n",
        "  print(name_error_msg)"
      ],
      "execution_count": 31,
      "outputs": [
        {
          "output_type": "stream",
          "text": [
            "          file  ...  label_description_Wood\n",
            "0  1000_pretty  ...                       0\n",
            "1  1001_pretty  ...                       0\n",
            "2  1002_pretty  ...                       0\n",
            "3  1003_pretty  ...                       0\n",
            "4  1004_pretty  ...                       0\n",
            "\n",
            "[5 rows x 45 columns]\n"
          ],
          "name": "stdout"
        }
      ]
    },
    {
      "cell_type": "markdown",
      "metadata": {
        "id": "_bYEnjn4trIK"
      },
      "source": [
        "Merging the DataFrames\n"
      ]
    },
    {
      "cell_type": "code",
      "metadata": {
        "id": "DktDB7PmVf_E"
      },
      "source": [
        "def data_merger(*df):\n",
        "  n_data_frames=len(df)\n",
        "  df_merged=df[0]\n",
        "  for i in range(1,n_data_frames):\n",
        "    df_merged=df_merged.merge(right=df[i],how='left')\n",
        "  df_merged.file=df_merged.file.apply(lambda x:x.strip('_pretty'))\n",
        "  df_merged.file=df_merged.file.astype('int64')\n",
        "  df_merged.sort_values('file',inplace=True)\n",
        "  return df_merged"
      ],
      "execution_count": 32,
      "outputs": []
    },
    {
      "cell_type": "markdown",
      "metadata": {
        "id": "lGYv5KnlG378"
      },
      "source": [
        "Below is just an example! Please pass the dataframes (related to pre-processed google vision features) dependent on your research question as the input to the function below."
      ]
    },
    {
      "cell_type": "code",
      "metadata": {
        "id": "b7Y1XRvqXwKc"
      },
      "source": [
        "try:\n",
        "  r=data_merger(logo_data_mod,ocr_data_mod,face_mod,web_data_mod,label_data_mod)\n",
        "except NameError:\n",
        "  print(name_eror_msg)"
      ],
      "execution_count": 33,
      "outputs": []
    },
    {
      "cell_type": "code",
      "metadata": {
        "id": "lJddfRcbuaVX",
        "colab": {
          "base_uri": "https://localhost:8080/"
        },
        "outputId": "67f68d5f-45e1-41f4-d38b-442021a6e2ac"
      },
      "source": [
        "r.shape"
      ],
      "execution_count": 34,
      "outputs": [
        {
          "output_type": "execute_result",
          "data": {
            "text/plain": [
              "(468, 1214)"
            ]
          },
          "metadata": {
            "tags": []
          },
          "execution_count": 34
        }
      ]
    },
    {
      "cell_type": "markdown",
      "metadata": {
        "id": "g4ua_TtDBsn0"
      },
      "source": [
        "We have chosen likeCount from the Instagram Data as the target variable. Kindly change the likeCount to commentCount in the code below if your target variable is different!"
      ]
    },
    {
      "cell_type": "code",
      "metadata": {
        "id": "Fe9doMJlnM-x"
      },
      "source": [
        "#Combing OpenCV Data and Google CV Data and instagram data\n",
        "#reg_data=r.merge(right=opencv_features,left_on='file',right_on='short_code')\n",
        "reg_data=opencv_features.merge(right=r,left_on='short_code',right_on='file',how='left')\n",
        "#reg_data.drop('short_code',inplace=True,axis=1)\n",
        "reg_data.drop('file',inplace=True,axis=1)\n",
        "reg_data.rename({'short_code':'file'},axis=1,inplace=True)\n",
        "reg_data.fillna(value=0,axis=0,inplace=True)\n",
        "reg_data=reg_data.merge(right=insta_data[['file','likeCount']],left_on='file',right_on='file',how='left')\n",
        "#reg_data.drop('index',inplace=True,axis=1)"
      ],
      "execution_count": 35,
      "outputs": []
    },
    {
      "cell_type": "markdown",
      "metadata": {
        "id": "N4cqvi1ibL9G"
      },
      "source": [
        "Save and Download the File!"
      ]
    },
    {
      "cell_type": "code",
      "metadata": {
        "id": "tyaZnAIlvUSt",
        "colab": {
          "base_uri": "https://localhost:8080/",
          "height": 17
        },
        "outputId": "80d6d980-3bbe-4f98-a3df-eba119c0b0f2"
      },
      "source": [
        "reg_data.to_csv('regression_data.csv',index=None)\n",
        "files.download('regression_data.csv')"
      ],
      "execution_count": 36,
      "outputs": [
        {
          "output_type": "display_data",
          "data": {
            "application/javascript": [
              "\n",
              "    async function download(id, filename, size) {\n",
              "      if (!google.colab.kernel.accessAllowed) {\n",
              "        return;\n",
              "      }\n",
              "      const div = document.createElement('div');\n",
              "      const label = document.createElement('label');\n",
              "      label.textContent = `Downloading \"${filename}\": `;\n",
              "      div.appendChild(label);\n",
              "      const progress = document.createElement('progress');\n",
              "      progress.max = size;\n",
              "      div.appendChild(progress);\n",
              "      document.body.appendChild(div);\n",
              "\n",
              "      const buffers = [];\n",
              "      let downloaded = 0;\n",
              "\n",
              "      const channel = await google.colab.kernel.comms.open(id);\n",
              "      // Send a message to notify the kernel that we're ready.\n",
              "      channel.send({})\n",
              "\n",
              "      for await (const message of channel.messages) {\n",
              "        // Send a message to notify the kernel that we're ready.\n",
              "        channel.send({})\n",
              "        if (message.buffers) {\n",
              "          for (const buffer of message.buffers) {\n",
              "            buffers.push(buffer);\n",
              "            downloaded += buffer.byteLength;\n",
              "            progress.value = downloaded;\n",
              "          }\n",
              "        }\n",
              "      }\n",
              "      const blob = new Blob(buffers, {type: 'application/binary'});\n",
              "      const a = document.createElement('a');\n",
              "      a.href = window.URL.createObjectURL(blob);\n",
              "      a.download = filename;\n",
              "      div.appendChild(a);\n",
              "      a.click();\n",
              "      div.remove();\n",
              "    }\n",
              "  "
            ],
            "text/plain": [
              "<IPython.core.display.Javascript object>"
            ]
          },
          "metadata": {
            "tags": []
          }
        },
        {
          "output_type": "display_data",
          "data": {
            "application/javascript": [
              "download(\"download_a968ce15-3854-4535-a823-71513415dd0c\", \"regression_data.csv\", 7267236)"
            ],
            "text/plain": [
              "<IPython.core.display.Javascript object>"
            ]
          },
          "metadata": {
            "tags": []
          }
        }
      ]
    }
  ]
}